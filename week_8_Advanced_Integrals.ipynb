{
 "cells": [
  {
   "cell_type": "markdown",
   "metadata": {},
   "source": [
    "## Part 1. Gaussian quadrature\n",
    "\n",
    "The Gaussian quadrature method is one of the methods of numerical integration that allows you to increase the accuracy of integration, by using orthogonal polynomials and their roots as nodes.\n",
    "\n",
    "$$\n",
    "\\int_a^b \\!  w(x)\\, f(x)\\, dx \\approx \\sum_{k=1}^n w_k \\, f(x_k) \\;,\n",
    "$$\n",
    "\n",
    "here $\\omega$ is the weight function, this weight function determines the basis of orthogonal polynomials whose roots are used as integration nodes. If the function $f(x)$ is a polynomial, then such an integration method gives *exact* value for the integral."
   ]
  },
  {
   "cell_type": "markdown",
   "metadata": {},
   "source": [
    "For example, let's calculate the following integral:\n",
    "$$\n",
    "\\int_{-1}^1 (7x^3 - 8 x^2 - 3 x + 3) dx  \\label{eq1}\\tag{1}\n",
    "$$\n",
    "\n",
    "Here function is already polynomial, so we put the weight function $\\omega(x) = 1$. Then the calculation of the integral reduces to the sum in the polynomials roots witch corresponding to the weight function $\\omega(x) = 1$. For example, here https://dlmf.nist.gov/18.3 you may see which basis of polynomials corresponds to your weight function.\n",
    "\n",
    "You may see, that Legendre polynomials correspond to our weight function. Now go to the documentation https://docs.scipy.org/doc/scipy/reference/special.html#orthogonal-polynomials. Here, the function *roots_legendre* immediately gives you the roots of the Legendre polynomial and weight at this roots (for Legendre polynomials all these weight are ones).\n"
   ]
  },
  {
   "cell_type": "markdown",
   "metadata": {},
   "source": [
    "### Task 1.1\n",
    "(20% of the grade)"
   ]
  },
  {
   "cell_type": "markdown",
   "metadata": {},
   "source": [
    "1. Calculate the exact value of the integral ([1](#mjx-eqn-eq1)) using a pen and paper (or in your mind). Remember it, then you will compare numerical results with it."
   ]
  },
  {
   "cell_type": "markdown",
   "metadata": {},
   "source": [
    "Firstly, let's calculate ground truth:\n",
    "$$\n",
    "\\int_{-1}^1 (7x^3 - 8 x^2 - 3 x + 3) dx  = (\\frac{7x^4}{4} - \\frac{8x^3}{3} - \\frac{3x^2}{2} + 3 x) \\bigg|_{-1}^1 = \\frac{2}{3}\n",
    "$$"
   ]
  },
  {
   "cell_type": "markdown",
   "metadata": {},
   "source": [
    "2. Calculate the value of the integral ([1](#mjx-eqn-eq1)) using the usual method of numerical integration on a uniform grid (for example, implemented by you in week_6_calculus homework). Estimate the number of nodes needed to achieve relative accuracy $10^{-10}$."
   ]
  },
  {
   "cell_type": "code",
   "execution_count": 1,
   "metadata": {},
   "outputs": [
    {
     "name": "stdout",
     "output_type": "stream",
     "text": [
      "Result:0.66667  Number of nodes:  5e+05\n",
      "Error: 1.94e-11\n"
     ]
    }
   ],
   "source": [
    "import numpy as np\n",
    "import scipy.special as sp\n",
    "import matplotlib.pyplot as plt\n",
    "\n",
    "def f(x):\n",
    "    return 7*x**3 - 8*x**2 - 3*x + 3\n",
    "\n",
    "#I just copied my solution from week 6\n",
    "def midpoint_rule(func, a, b, eps=1e-16):\n",
    "    N=1\n",
    "    width = (b-a)/N\n",
    "    m = np.array([a+(2*k-1)/(2*N)*(b-a) for k in range(1, N+1)])\n",
    "    M = (b-a)/N*np.sum(func(m))\n",
    "    while N==1 or (abs(Mprev-M)>eps and N<10**50):\n",
    "        Mprev=M\n",
    "        N*=2\n",
    "        width = (b-a)/N\n",
    "        m = np.array([a+(2*k-1)/(2*N)*(b-a) for k in range(1, N+1)])\n",
    "        M = (b-a)/N*np.sum(func(m))\n",
    "    if N<10**50:\n",
    "        return M, N\n",
    "    return \"N is too big, sorry(\"\n",
    "\n",
    "print(\"Result:%7.5g  Number of nodes:%7.0g\"%midpoint_rule(f, -1, 1, 10**(-10)))\n",
    "print(\"Error: %2.3g\"%abs(midpoint_rule(f, -1, 1, 10**(-10))[0]-2/3))"
   ]
  },
  {
   "cell_type": "markdown",
   "metadata": {},
   "source": [
    "3. Calculate the integral ([1](#mjx-eqn-eq1)) using the roots of the Legendre polynomial from 1 to 6 degrees as nodes (to get roots and weigths use scipy.special.roots_legendre)"
   ]
  },
  {
   "cell_type": "code",
   "execution_count": 2,
   "metadata": {},
   "outputs": [
    {
     "name": "stdout",
     "output_type": "stream",
     "text": [
      "Number of nodes: 1 Result:     6 Error: 5\n",
      "Number of nodes: 2 Result: 0.667 Error: 8e-16\n",
      "Number of nodes: 3 Result: 0.667 Error: 3e-15\n",
      "Number of nodes: 4 Result: 0.667 Error: 1e-16\n",
      "Number of nodes: 5 Result: 0.667 Error: 2e-15\n",
      "Number of nodes: 6 Result: 0.667 Error: 3e-15\n"
     ]
    }
   ],
   "source": [
    "for n in range(1, 7):\n",
    "    nodes, wk = sp.roots_legendre(n) #find roots and weigths\n",
    "    nodes = [f(xk) for xk in nodes]\n",
    "    res = sum(wk * nodes)\n",
    "    print('Number of nodes:', n, 'Result: %5.3g'%res, \"Error: %.g\"%abs(res-2/3)) "
   ]
  },
  {
   "cell_type": "markdown",
   "metadata": {},
   "source": []
  },
  {
   "cell_type": "markdown",
   "metadata": {},
   "source": [
    "Compare the number of nodes needed to obtain the same accuracy in both numerical methods."
   ]
  },
  {
   "cell_type": "markdown",
   "metadata": {},
   "source": [
    "As we can see, 2 dots is enough to reach $10^{-10}$ error. That shows efficiency of using Legendre polynomials, because the midpoint rule method requires at least $10^5$ dots to reach the same accuracy."
   ]
  },
  {
   "cell_type": "markdown",
   "metadata": {},
   "source": [
    "### Task 1.2\n",
    "(20% of the grade)\n",
    "\n",
    "Calculate the value of the same integral, but on the interval from 0 to 10.\n",
    "$$\n",
    "\\int_{0}^{10} (7x^3 - 8 x^2 - 3 x + 3) dx \n",
    "$$\n",
    "\n",
    "Please note that you can no longer directly use Legendre polynomials, because they are defined for the interval (-1,1). But you can always make an *affine transformation* (a transformation that does not change the area) in order to go to the desired coordinate system."
   ]
  },
  {
   "cell_type": "markdown",
   "metadata": {},
   "source": [
    "Answer is $$(\\frac{7x^4}{4} - \\frac{8x^3}{3} - \\frac{3x^2}{2} + 3 x) \\bigg|_{0}^10 = \\frac{44140}{3}$$\n",
    "I need to make a replacement of variables, whitch will turn limits of integration into the interval (-1,1). Affine tranformation of interval is $x_{new}=k x_{old}+b$. That gives us a linear aquation\n",
    "$$\\begin{equation*}\n",
    " \\begin{cases}\n",
    "   -1 = 0 k + b,\n",
    "   \\\\\n",
    "   1 = 10 k + b.\n",
    " \\end{cases}\n",
    "\\end{equation*}$$\n",
    "It is easy to find $k = 0.2$ and $b = -1.$\n",
    "That gives us a replacement $$x_{old}=\\frac{x_{new}-b}{k}=>dx_{old}=\\frac{x_{new}}{k}$$ \n",
    "Now our integral looks like:\n",
    "$$\n",
    "\\int_{-1}^{1} (7(\\frac{x_{new}-b}{k})^3 - 8 (\\frac{x_{new}-b}{k})^2 - 3 \\frac{x_{new}-b}{k} + 3) \\frac{dx_{new}}{k} \n",
    "$$"
   ]
  },
  {
   "cell_type": "code",
   "execution_count": 4,
   "metadata": {},
   "outputs": [
    {
     "name": "stdout",
     "output_type": "stream",
     "text": [
      "Exact integral value: 14713.333333333334\n",
      "Number of nodes: 1 Result: 6630 Error: 8.08e+03\n",
      "Number of nodes: 2 Result: 14713.33 Error: 5.46e-12\n",
      "Number of nodes: 3 Result: 14713.33 Error: 5.46e-12\n"
     ]
    }
   ],
   "source": [
    "def affine(x, func):\n",
    "    k, b = np.linalg.solve(((0,1),(10,1)), (-1, 1))\n",
    "    return func((x-b)/k)/k\n",
    "\n",
    "answer = 44140/3\n",
    "print(\"Exact integral value:\", answer)\n",
    "\n",
    "for n in range(1, 4):\n",
    "    nodes, wk = sp.roots_legendre(n)\n",
    "    nodes = [affine(xk, f) for xk in nodes]\n",
    "    res = sum(wk * nodes)\n",
    "    print('Number of nodes:', n, 'Result: %.7g'%res, \"Error: %2.3g\"%abs(res-answer)) "
   ]
  },
  {
   "cell_type": "markdown",
   "metadata": {},
   "source": [
    "Compare the result with the exact value of the integral."
   ]
  },
  {
   "cell_type": "markdown",
   "metadata": {},
   "source": [
    "Frankly, 2 nodes is enough, because our integral contains only 3-power polynom."
   ]
  },
  {
   "cell_type": "markdown",
   "metadata": {},
   "source": [
    "### Task 1.3\n",
    "(20% of the grade)\n",
    "\n",
    "Calculate the value of the following integral:\n",
    "$$\n",
    "\\int_{0}^{2\\pi} \\frac{cos(x) dx }{\\sqrt{4\\pi^2 - x^2}}\n",
    "$$\n",
    "by using the corresponding basis of orthogonal polynomials. \n",
    "Find the degree of the polynomial (number of nodes) at which the accuracy of the integral starts to exceed the double floating point accuracy."
   ]
  },
  {
   "cell_type": "markdown",
   "metadata": {},
   "source": [
    "Ground truth:\n",
    "$$\n",
    "I = \\int_{0}^{2\\pi} \\frac{cos(x) dx }{\\sqrt{4\\pi^2 - x^2}}=[t = \\frac{x}{2\\pi}]=\\int_{0}^{1} \\frac{cos(2\\pi t) dt }{\\sqrt{1 - t^2}}=[t=sin{\\tau}=>dt=\\sqrt{1-t^2}\\tau]=$$\n",
    "$$=\\int_{0}^{\\frac{\\pi}{2}} cos(2\\pi sin{\\tau}) d\\tau =\\frac{1}{2}\\int_{0}^{\\pi} cos(2\\pi sin{\\tau}) d\\tau=J_0(-2\\pi)\\frac{\\pi}{2}\n",
    "$$"
   ]
  },
  {
   "cell_type": "code",
   "execution_count": 5,
   "metadata": {},
   "outputs": [
    {
     "name": "stdout",
     "output_type": "stream",
     "text": [
      "0.34601015881226427\n"
     ]
    }
   ],
   "source": [
    "from scipy import integrate\n",
    "def f1(x):\n",
    "    return np.cos(x)/np.sqrt(4*np.pi**2-x**2)\n",
    "\n",
    "#Ground truth\n",
    "ans = sp.jv(0, -2*np.pi)/2*np.pi\n",
    "print(ans)"
   ]
  },
  {
   "cell_type": "markdown",
   "metadata": {},
   "source": [
    "To pick out weigh function, let's change variable similar:\n",
    "$$I = \\int_{0}^{1} \\frac{cos(2\\pi t) dt }{\\sqrt{1 - t^2}}$$\n",
    "Integrand is an even function, so integral is equal to:\n",
    "$$I = \\frac{1}{2}\\int_{-1}^{1} \\frac{cos(2\\pi t) dt }{\\sqrt{1 - t^2}}$$\n",
    "We can see the weight function $\\frac{1}{\\sqrt{1 - t^2}}$ and choose Chebychev polinomials"
   ]
  },
  {
   "cell_type": "code",
   "execution_count": 6,
   "metadata": {},
   "outputs": [
    {
     "name": "stdout",
     "output_type": "stream",
     "text": [
      "Number of nodes:  8 Result: 0.34600 Error: 7.49e-06\n",
      "Number of nodes:  9 Result: 0.34601 Error: 2.58e-07\n",
      "Number of nodes: 10 Result: 0.34601 Error: 7.04e-09\n",
      "Number of nodes: 11 Result: 0.34601 Error: 1.57e-10\n",
      "Number of nodes: 12 Result: 0.34601 Error: 2.91e-12\n",
      "Number of nodes: 13 Result: 0.34601 Error: 4.54e-14\n",
      "Number of nodes: 14 Result: 0.34601 Error: 4.44e-16\n",
      "Number of nodes: 15 Result: 0.34601 Error: 1.11e-16\n"
     ]
    }
   ],
   "source": [
    "#Choose n\n",
    "for n in range(8, 16):\n",
    "    nodes, wk = sp.roots_chebyt(n)\n",
    "    nodes = [np.cos(2*np.pi*t) for t in nodes]\n",
    "    res = sum(wk * nodes)/2\n",
    "    print('Number of nodes: %2.d'%n, 'Result: %2.5f'%res, \"Error: %2.3g\"%abs(res-ans)) "
   ]
  },
  {
   "cell_type": "markdown",
   "metadata": {},
   "source": [
    "The accuracy of the integral starts to exceed the double floating point accuracy with 14 nodes."
   ]
  },
  {
   "cell_type": "markdown",
   "metadata": {},
   "source": [
    "## Part 2. Fredholm equation\n",
    "\n",
    "There are two types of Fredholm equations. \n",
    "\n",
    "1. Fredholm equation of the first kind:\n",
    "$$\n",
    "\\int_a^b \\! K(x, t)\\, \\color{blue}{f(t)} \\,dt = g(x)\n",
    "$$\n",
    "\n",
    "2. Fredholm equation of the second kind:\n",
    "$$\n",
    "\\lambda \\int_a^b\\! K(x, t)\\, \\color{blue}{f(t)} \\, dt + g(x) = \\color{blue}{f(x)}\n",
    "$$\n",
    "\n",
    "Here higtlighted function $f(x)$ is unknown, kernel function $K(x, t)$ and given function $g(x)$, $\\lambda$ is a real number. Numerically, Fredholm equations of the first kind are very ill-conditioned. We will consider equations of the second kind only."
   ]
  },
  {
   "cell_type": "markdown",
   "metadata": {},
   "source": [
    "The basic idea is to approximate the integral by some quadrature formula\n",
    "\n",
    "$$\n",
    "\\int_a^b \\! \\xi(t)\\, dt \\approx \\sum_j^N w_j\\, \\xi(t_j)\n",
    "$$\n",
    "\n",
    "with appropriate weights $w_j$ and nodes $t_j$ and $j=1, \\dots, N$. The accuracy of the approximation is controlled by $N$."
   ]
  },
  {
   "cell_type": "markdown",
   "metadata": {},
   "source": [
    "This way, the FE is approximated by \n",
    "\n",
    "$$\n",
    "\\lambda \\sum_j w_j\\, K(x, t_j)\\, \\color{blue}{f(t_j)} + g(x) = \\color{blue}{f(x)}\n",
    "$$\n",
    "\n",
    "Note that here $x$ is a continuous variable, and we only discretized $t$.\n"
   ]
  },
  {
   "cell_type": "markdown",
   "metadata": {},
   "source": [
    "Evaluating this equation on the grid $x = t_k$, we obtain\n",
    "\n",
    "$$\n",
    "\\lambda \\sum_j w_j \\, K_{k, j}\\, \\color{blue}{f_j} + g_k = \\color{blue}{f_k}\n",
    "$$\n",
    "\n",
    "where $f_j \\equiv f(t_j)$, $g_j \\equiv g(t_j)$ and $K_{k, j} \\equiv K(t_k, t_j)$. This is nothing but a system of linear algebraic equations for the vector of $\\color{blue}{f_j}$.\n",
    "\n",
    "Its solution gives the values of the unknown function $f(x)$ at the discrete values $x=t_j$ for $j=1, \\dots, N$."
   ]
  },
  {
   "cell_type": "markdown",
   "metadata": {},
   "source": [
    "### Task 2.1\n",
    "(20% of the grade)\n",
    "\n",
    "Solve an example Fredholm equation of the second kind\n",
    "\n",
    "$$\n",
    "f(x) = \\sin(\\pi x)  + \\frac{1}{2} \\int_0^1\\! f(t) \\, dt\n",
    "$$\n",
    "\n",
    "Here $a, b = 0, 1$, $\\lambda = \\dfrac{1}{2}$, the kernel is $K(x, t) = 1$ and the right-hand side $g(x) = \\sin(\\pi x)$.\n",
    "\n",
    "In fact, the exact solution is (В. А. Попов, Сборник задач по интегральным уравнениям, 2006, стр. 5)\n",
    "\n",
    "$$\n",
    "f(x) = \\sin(\\pi x) + \\frac{2}{\\pi}\n",
    "$$"
   ]
  },
  {
   "cell_type": "markdown",
   "metadata": {},
   "source": [
    "For the integral, we can use a Gaussian quadrature with the weight function $w(x) = 1$ on $(0, 1)$. Looking at http://dlmf.nist.gov/18.3, and find the corresponding function in *scipy.special* (pay attention to the integration interval).\n",
    "\n",
    "Compare the obtained function values with the true solution for different values of $N$. What value of $N$ can you stop at?"
   ]
  },
  {
   "cell_type": "markdown",
   "metadata": {},
   "source": [
    "Assuming constants, FE can be represented as:\n",
    "$$\n",
    "1/2\n",
    "\\begin{pmatrix}\n",
    "w_1 & w_2 & ...& w_n\n",
    "\\end{pmatrix}\n",
    "\\vec{f}=\\vec{f}-\\vec{g}\n",
    "$$\n",
    "Where \n",
    "$$\n",
    "\\vec{f}=\n",
    "\\begin{pmatrix}\n",
    "f_1 \\\\ f_2 \\\\ ...\\\\ f_N\n",
    "\\end{pmatrix}, \n",
    "\\vec{g}=\n",
    "\\begin{pmatrix}\n",
    "g_1 \\\\ g_2 \\\\ ...\\\\ g_N\n",
    "\\end{pmatrix}\n",
    "$$\n",
    "Or, \n",
    "$$\n",
    "1/2\n",
    "\\begin{pmatrix}\n",
    "w_1-1 & w_2 & ...& w_n\\\\\n",
    "w_1 & w_2-1 & ...& w_n\\\\\n",
    "... & ... & ... & ...\\\\\n",
    "w_1 & w_2 & ...& w_n-1\n",
    "\\end{pmatrix}\n",
    "\\vec{f}=-\\vec{g}\n",
    "$$"
   ]
  },
  {
   "cell_type": "code",
   "execution_count": 7,
   "metadata": {},
   "outputs": [
    {
     "name": "stdout",
     "output_type": "stream",
     "text": [
      "N: max error: norm of error vector:\n",
      " 3 0.0004421 0.00076575\n",
      " 4 5.0202e-06 1.004e-05\n",
      " 5 3.5105e-08 7.8496e-08\n",
      " 6 1.6639e-10 4.0757e-10\n",
      " 7 5.6954e-13 1.5066e-12\n",
      " 8 1.1102e-15 2.8802e-15\n",
      " 9 2.2204e-16 4.7103e-16\n",
      "10 8.8818e-16 2.4601e-15\n",
      "11 2.2204e-16 3.5108e-16\n",
      "12 7.7716e-16 2.083e-15\n",
      "13 8.8818e-16 1.9069e-15\n",
      "14 4.4409e-16 6.8439e-16\n"
     ]
    },
    {
     "data": {
      "text/plain": [
       "Text(0.5, 1.0, 'Norm of error vector depending on nodes quantity')"
      ]
     },
     "execution_count": 7,
     "metadata": {},
     "output_type": "execute_result"
    },
    {
     "data": {
      "image/png": "[encoded data removed]",
      "text/plain": [
       "<Figure size 432x288 with 1 Axes>"
      ]
     },
     "metadata": {
      "needs_background": "light"
     },
     "output_type": "display_data"
    }
   ],
   "source": [
    "answer = np.sin(np.pi*np.linspace(0,1,1000))+2/np.pi\n",
    "\n",
    "print('N: max error: norm of error vector:')\n",
    "for N in range(3,15):\n",
    "    t, wk = sp.roots_sh_legendre(N)\n",
    "    ans = np.sin(np.pi*t)+2/np.pi\n",
    "    g = np.sin(np.pi*t)\n",
    "    m = wk*np.full((N, N), 1/2)\n",
    "    res = np.linalg.solve(m-np.eye(N), -g)\n",
    "    plt.plot(N, np.linalg.norm(res-ans),'*', color='blue')\n",
    "    plt.yscale('log')\n",
    "    print(\"%2.d\"%N, \"%8.5g\"%max(abs(res-ans)), \"%7.5g\"%np.linalg.norm(res-ans))\n",
    "plt.xlabel('Number of nodes')\n",
    "plt.ylabel('Error')\n",
    "plt.title('Norm of error vector depending on nodes quantity')"
   ]
  },
  {
   "cell_type": "markdown",
   "metadata": {},
   "source": [
    "After N reached 9 both indexes of solution quality stoped decreasing and started fluctuating around 1e-16, exceed the double floating point accuracy."
   ]
  },
  {
   "cell_type": "markdown",
   "metadata": {},
   "source": [
    "### Task 2.2\n",
    "(20% of the grade)\n",
    "\n",
    "An obvious issue with the privious result for $f(x)$ that it returns the solution on a fixed set of points. We do not control precise positions of these points.\n",
    "\n",
    "1. First, let's try to interpolate the values obtained in the previous task to a uniform grid of length 50. You may use any interpolation method. Compare the interpolation values with exact solution values."
   ]
  },
  {
   "cell_type": "code",
   "execution_count": 8,
   "metadata": {},
   "outputs": [
    {
     "data": {
      "text/plain": [
       "<matplotlib.legend.Legend at 0x1765da1c128>"
      ]
     },
     "execution_count": 8,
     "metadata": {},
     "output_type": "execute_result"
    },
    {
     "data": {
      "image/png": "[encoded data removed]",
      "text/plain": [
       "<Figure size 432x288 with 1 Axes>"
      ]
     },
     "metadata": {
      "needs_background": "light"
     },
     "output_type": "display_data"
    }
   ],
   "source": [
    "import scipy.interpolate as interp\n",
    "N = 9\n",
    "t, wk = sp.roots_sh_legendre(N)\n",
    "ans = np.sin(np.pi*t)+2/np.pi\n",
    "g = np.sin(np.pi*t)\n",
    "m = wk*np.full((N, N), 1/2)\n",
    "res = np.linalg.solve(m-np.eye(N), -g)\n",
    "xScale=np.linspace(0,1,50)\n",
    "y = interp.CubicSpline(t, res)\n",
    "plt.plot(xScale, y(xScale), '*', label='interpolation')\n",
    "plt.plot(xScale, np.sin(np.pi*xScale)+2/np.pi, label='ground truth')\n",
    "plt.xlabel('x')\n",
    "plt.ylabel('y')\n",
    "plt.legend()"
   ]
  },
  {
   "cell_type": "code",
   "execution_count": 9,
   "metadata": {},
   "outputs": [
    {
     "name": "stdout",
     "output_type": "stream",
     "text": [
      "Error is: 5.38e-04\n"
     ]
    }
   ],
   "source": [
    "error = y(xScale)-(np.sin(np.pi*xScale)+2/np.pi)\n",
    "print('Error is: %.2e'%np.linalg.norm(error))"
   ]
  },
  {
   "cell_type": "markdown",
   "metadata": {},
   "source": [
    "2. Now use the following formula to calculate the function at points of the same uniform grid.\n",
    "$$\n",
    "f(x) = g(x) + \\lambda \\sum_j^N w_j\\, K(x, t_j)\\, f(t_j)\n",
    "$$\n",
    "Again, compare the interpolation values with the exact solution values, and also with the direct interpolation method."
   ]
  },
  {
   "cell_type": "code",
   "execution_count": 10,
   "metadata": {},
   "outputs": [],
   "source": [
    "#Let's write an equation\n",
    "def fred(x, N):\n",
    "    t, wk = sp.roots_sh_legendre(N)\n",
    "    g = np.sin(np.pi*t)\n",
    "    m = wk*np.full((N, N), 1/2)\n",
    "    res = np.linalg.solve(m-np.eye(N), -g)\n",
    "    return np.sin(np.pi*x)+1/2*sum(wk*res)"
   ]
  },
  {
   "cell_type": "code",
   "execution_count": 11,
   "metadata": {},
   "outputs": [
    {
     "data": {
      "text/plain": [
       "<matplotlib.legend.Legend at 0x1765da62b38>"
      ]
     },
     "execution_count": 11,
     "metadata": {},
     "output_type": "execute_result"
    },
    {
     "data": {
      "image/png": "[encoded data removed]",
      "text/plain": [
       "<Figure size 432x288 with 1 Axes>"
      ]
     },
     "metadata": {
      "needs_background": "light"
     },
     "output_type": "display_data"
    }
   ],
   "source": [
    "FEy = []\n",
    "for x in xScale:\n",
    "    FEy.append(fred(x, 9))\n",
    "plt.plot(xScale, np.sin(np.pi*xScale)+2/np.pi, label='ground truth')\n",
    "plt.plot(xScale, FEy, '.', label='FE')\n",
    "plt.xlabel('x')\n",
    "plt.ylabel('y')\n",
    "plt.title('FE interpolation')\n",
    "plt.legend()"
   ]
  },
  {
   "cell_type": "code",
   "execution_count": 12,
   "metadata": {},
   "outputs": [
    {
     "name": "stdout",
     "output_type": "stream",
     "text": [
      "Error: 5.38e-04\n"
     ]
    }
   ],
   "source": [
    "FEerror=FEy-(np.sin(np.pi*xScale)+2/np.pi)\n",
    "print(\"Error: %.2e\"%np.linalg.norm(error))"
   ]
  },
  {
   "cell_type": "markdown",
   "metadata": {},
   "source": [
    "Wow, we can see that this way is much more better than usual spline: FE and Cubic Spline errors are 1e-15 and 1e-4, respectively. "
   ]
  },
  {
   "cell_type": "code",
   "execution_count": 13,
   "metadata": {},
   "outputs": [
    {
     "data": {
      "text/plain": [
       "<matplotlib.legend.Legend at 0x1765dadeeb8>"
      ]
     },
     "execution_count": 13,
     "metadata": {},
     "output_type": "execute_result"
    },
    {
     "data": {
      "image/png": "[encoded data removed]",
      "text/plain": [
       "<Figure size 432x288 with 1 Axes>"
      ]
     },
     "metadata": {
      "needs_background": "light"
     },
     "output_type": "display_data"
    }
   ],
   "source": [
    "plt.plot(xScale, abs(error), label='Cubic Spline errors')\n",
    "plt.plot(xScale, abs(FEerror), label='FE errors')\n",
    "plt.yscale('log')\n",
    "plt.title('Comparision between two interpolation methods')\n",
    "plt.legend()"
   ]
  }
 ],
 "metadata": {
  "kernelspec": {
   "display_name": "Python 3",
   "language": "python",
   "name": "python3"
  },
  "language_info": {
   "codemirror_mode": {
    "name": "ipython",
    "version": 3
   },
   "file_extension": ".py",
   "mimetype": "text/x-python",
   "name": "python",
   "nbconvert_exporter": "python",
   "pygments_lexer": "ipython3",
   "version": "3.7.1"
  }
 },
 "nbformat": 4,
 "nbformat_minor": 4
}
