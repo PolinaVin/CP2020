{
 "cells": [
  {
   "cell_type": "markdown",
   "metadata": {},
   "source": [
    "# Метод Монте-Карло в физике"
   ]
  },
  {
   "cell_type": "markdown",
   "metadata": {},
   "source": [
    "Методами Монте-Карло называют множество различных методов в совершенно разных областях от физики до экономики. Основная суть этих методов заключается в использовании случайных величин для получения различных состояний исследуемой системы. "
   ]
  },
  {
   "cell_type": "markdown",
   "metadata": {},
   "source": [
    "Одно из частых применений метода Монте-Карло в физике состоит в расчете интегралов. При этом действительно полезным и незаменимым метод становится при работе с большим количеством измерений, когда построение обычных квадратур приводит к чересчур  огромным сеткам. Например, уже в случае 10 измерений, задание обычной равномерной решетки шириной в $2^4 = 16$ узлов, приводит к общей сетке размера $2^{40} \\simeq 10^{12}$. Массив данных float такого размера будет занимать 4ТБ в памяти компьютера. Оперировать такими интегралами стандартными методами становится принципиально невозможно."
   ]
  },
  {
   "cell_type": "code",
   "execution_count": 1,
   "metadata": {},
   "outputs": [],
   "source": [
    "import numpy as np\n",
    "import matplotlib.pyplot as plt\n",
    "import scipy.special as sp\n",
    "import matplotlib.patches as mpatches\n",
    "plt.style.use('ggplot')\n",
    "%matplotlib notebook\n",
    "np.random.seed(15)"
   ]
  },
  {
   "cell_type": "markdown",
   "metadata": {},
   "source": [
    "## Задание 1\n",
    "Вычислим объем многомерной сферы в большом количестве измерений."
   ]
  },
  {
   "cell_type": "markdown",
   "metadata": {},
   "source": [
    "### Задание 1.1 \n",
    "Напишите функцию, вычисляющую точный объем $d$-мерной сферы с помощью явного выражения. \n",
    "Объем многомерной сферы радиуса $R$ в $d$-измерениях дается формулой: \n",
    "$$\n",
    "V_d = \\frac{\\pi^{d/2}} {\\Gamma(1 + d/2)}\n",
    "$$\n",
    "где $\\Gamma(x)$ - гамма функция, значение которой можно получить из scipy.special."
   ]
  },
  {
   "cell_type": "code",
   "execution_count": 2,
   "metadata": {},
   "outputs": [],
   "source": [
    "def getSphereVolumeExact(D, R = 1.0):\n",
    "    \"\"\"\n",
    "    Функция вычисляет значение объема D-мерной сферы радиуса R по явной формуле\n",
    "\n",
    "    --------\n",
    "    Аргументы:\n",
    "    D - int, количество измерений \n",
    "    R = 1 - float, радиус сферы\n",
    "    --------\n",
    "    Функция возвращает:\n",
    "    V - float, объем сферы\n",
    "    \"\"\"\n",
    "    \n",
    "    V = np.pi**(D/2)/sp.gamma(1+D/2)\n",
    "    return V"
   ]
  },
  {
   "cell_type": "markdown",
   "metadata": {},
   "source": [
    "1. Проверьте результат для нескольких известных вам значений. \n",
    "2. Построите график V(D)"
   ]
  },
  {
   "cell_type": "code",
   "execution_count": 3,
   "metadata": {},
   "outputs": [
    {
     "name": "stdout",
     "output_type": "stream",
     "text": [
      "1.\n",
      "d = 2, V = 2*pi*R^2 = 3.14159, Function result: 3.14159\n",
      "d = 3, V = 4/3*pi*R^3 = 4.18879, Function result: 4.18879\n",
      "2.\n"
     ]
    },
    {
     "data": {
      "text/plain": [
       "[<matplotlib.lines.Line2D at 0x1b642d76470>]"
      ]
     },
     "execution_count": 3,
     "metadata": {},
     "output_type": "execute_result"
    },
    {
     "data": {
      "image/png": "[encoded data removed]",
      "text/plain": [
       "<Figure size 432x288 with 1 Axes>"
      ]
     },
     "metadata": {
      "needs_background": "light"
     },
     "output_type": "display_data"
    }
   ],
   "source": [
    "print('1.')\n",
    "print('d = 2, V = 2*pi*R^2 = %g, Function result: %g' %(np.pi*1**2, getSphereVolumeExact(2)))\n",
    "print('d = 3, V = 4/3*pi*R^3 = %g, Function result: %g' %(4/3*np.pi*1**3, getSphereVolumeExact(3)))\n",
    "dScale = np.linspace(0.01, 25, 100)\n",
    "V = []\n",
    "for d in dScale:\n",
    "    V.append(getSphereVolumeExact(d))\n",
    "print('2.')\n",
    "plt.xlabel('D')\n",
    "plt.ylabel('V')\n",
    "plt.plot(dScale, V)\n"
   ]
  },
  {
   "cell_type": "markdown",
   "metadata": {},
   "source": [
    "### Задание 1.2\n",
    "Напишите функцию, вычисляющую объем сферы методом Монте-Карло на псевдослучайных числах (используя, например `numpy.random.rand`)."
   ]
  },
  {
   "cell_type": "code",
   "execution_count": 34,
   "metadata": {},
   "outputs": [],
   "source": [
    "np.random.seed(14)\n",
    "def getSphereVolumePseudorandom(N, D, R = 1):\n",
    "    \"\"\"\n",
    "    Функция вычисляет значение объема D-мерной сферы радиуса R методом Монте-Кало на псевдослучайных числах\n",
    "\n",
    "    --------\n",
    "    Аргументы:\n",
    "    N - int, количество случайных точек\n",
    "    D - int, количество измерений \n",
    "    R = 1 - float, радиус сферы\n",
    "    --------\n",
    "    Функция возвращает:\n",
    "    V - float, объем сферы\n",
    "    \"\"\"\n",
    "    pointInside = 0\n",
    "    for i in range(N):\n",
    "        dot = np.random.rand(D)*R\n",
    "        length = np.linalg.norm(dot)\n",
    "        if length < R:\n",
    "            pointInside+=1\n",
    "    V = 2**D*R**D*pointInside/N\n",
    "    return V"
   ]
  },
  {
   "cell_type": "markdown",
   "metadata": {},
   "source": [
    "Постройте график зависимости относительной точности $\\epsilon$ которая достигается при фиксированном $N$ от размерности сферы $D$. Для относительной точности используйте выражение $\\epsilon = (V_{exact} - V_{random})/V_{exact}$."
   ]
  },
  {
   "cell_type": "code",
   "execution_count": 35,
   "metadata": {},
   "outputs": [
    {
     "data": {
      "text/plain": [
       "Text(0.5, 1.0, '$\\\\dfrac{(V_{exact} - V_{rand})}{V_{exact}}(D), N=10^4$')"
      ]
     },
     "execution_count": 35,
     "metadata": {},
     "output_type": "execute_result"
    },
    {
     "data": {
      "image/png": "[encoded data removed]",
      "text/plain": [
       "<Figure size 432x288 with 1 Axes>"
      ]
     },
     "metadata": {
      "needs_background": "light"
     },
     "output_type": "display_data"
    }
   ],
   "source": [
    "N = 10**4\n",
    "eps = []\n",
    "for d in range(1, 15):\n",
    "    Vexact = getSphereVolumeExact(d)\n",
    "    Vrand = getSphereVolumePseudorandom(N, d)\n",
    "    eps.append((Vexact - Vrand)/Vexact)\n",
    "plt.plot(np.arange(1, 15),np.abs(eps))\n",
    "plt.xlabel('D')\n",
    "plt.ylabel('$\\epsilon$')\n",
    "plt.title('$\\dfrac{(V_{exact} - V_{rand})}{V_{exact}}(D), N=10^4$')"
   ]
  },
  {
   "cell_type": "markdown",
   "metadata": {},
   "source": [
    "Ошибка выходит на единицу, значит, функция начинает выдавать 0. Это логично, так как размерность пространства увеличивается, а значит, количество точек внутри сферы будет уменьшаться. С увеличением количества точек момент значение D, соответствующее выходу на единицу должно увеличиваться. Проверим:"
   ]
  },
  {
   "cell_type": "code",
   "execution_count": 6,
   "metadata": {},
   "outputs": [],
   "source": [
    "N = 10**5\n",
    "epsNew = []\n",
    "for d in range(1, 30):\n",
    "    Vexact = getSphereVolumeExact(d)\n",
    "    Vrand = getSphereVolumePseudorandom(N, d)\n",
    "    epsNew.append((Vexact - Vrand)/Vexact)"
   ]
  },
  {
   "cell_type": "code",
   "execution_count": 7,
   "metadata": {},
   "outputs": [
    {
     "data": {
      "text/plain": [
       "Text(0.5, 1.0, '$\\\\dfrac{(V_{exact} - V_{rand})}{V_{exact}}(D), N=10^5$')"
      ]
     },
     "execution_count": 7,
     "metadata": {},
     "output_type": "execute_result"
    },
    {
     "data": {
      "image/png": "[encoded data removed]",
      "text/plain": [
       "<Figure size 432x288 with 1 Axes>"
      ]
     },
     "metadata": {
      "needs_background": "light"
     },
     "output_type": "display_data"
    }
   ],
   "source": [
    "plt.plot(np.arange(1, 30),np.abs(epsNew))\n",
    "plt.yscale('log')\n",
    "plt.xlabel('D')\n",
    "plt.ylabel('$\\epsilon$')\n",
    "plt.title('$\\dfrac{(V_{exact} - V_{rand})}{V_{exact}}(D), N=10^5$')"
   ]
  },
  {
   "cell_type": "markdown",
   "metadata": {},
   "source": [
    "Так и есть"
   ]
  },
  {
   "cell_type": "markdown",
   "metadata": {},
   "source": [
    "### Задание 1.3\n",
    "Напишите функцию, вычисляющую объем сферы методом Монте-Карло на квазислучайной последовательности Соболя.\n",
    "\n",
    "Для установки библиотеки `sobol_seq`:\n",
    "\n",
    "\n",
    "выполните `pip install sobol_seq` в Jupyter или\n",
    "\n",
    "выполните команду `pip install sobol_seq --user` в командном окне (если вы используете Jupyter Notebook в составе Anaconda откройте Anaconda Prompt и выполните команду pip в ней, после чего перезапустите Jupyter Notebook).\n"
   ]
  },
  {
   "cell_type": "code",
   "execution_count": 8,
   "metadata": {},
   "outputs": [],
   "source": [
    "#!pip install sobol_seq <-- uncomment to install sobol_seq\n",
    "import sobol_seq"
   ]
  },
  {
   "cell_type": "markdown",
   "metadata": {},
   "source": [
    "Используйте функцию `i4_sobol_generate`. Документацию по ней можно получить выполнив следующую строчку кода:"
   ]
  },
  {
   "cell_type": "code",
   "execution_count": 28,
   "metadata": {},
   "outputs": [],
   "source": [
    "def getSphereVolumeQuasirandom(N, D, R = 1):\n",
    "    \"\"\"\n",
    "    Функция вычисляет значение объема D-мерной сферы радиуса R методом Монте-Кало на квазислучайных числах\n",
    "\n",
    "    --------\n",
    "    Аргументы:\n",
    "    N - int, количество случайных точек\n",
    "    D - int, количество измерений \n",
    "    R = 1 - float, радиус сферы\n",
    "    --------\n",
    "    Функция возвращает:\n",
    "    V - float, объем сферы\n",
    "    \"\"\"\n",
    "    pointInside = 0\n",
    "    np.random.seed(15)\n",
    "    dots = sobol_seq.i4_sobol_generate(D, N)*R\n",
    "    for dot in dots:\n",
    "        length = np.linalg.norm(dot)\n",
    "        if length < R:\n",
    "            pointInside+=1\n",
    "    V = 2**D*R**D*pointInside/N\n",
    "    return V"
   ]
  },
  {
   "cell_type": "markdown",
   "metadata": {},
   "source": [
    "Сравните точность вычисления объема для квазислучайной и псевдослучайной последовательностей, рассчитав  $\\epsilon(D)$, при таком же значении $N$, как в предыдущем задании. Постройте обе зависимости $\\epsilon(D)$ на одном графике в логарифмической шкале по $\\epsilon$."
   ]
  },
  {
   "cell_type": "code",
   "execution_count": 37,
   "metadata": {},
   "outputs": [],
   "source": [
    "N = 10**4 #Взяла поменьше, потому что компьютер не тянет больше точек\n",
    "eps2 = []\n",
    "for d in range(1, 15):\n",
    "    Vexact = getSphereVolumeExact(d)\n",
    "    Vrand = getSphereVolumeQuasirandom(N, d)\n",
    "    eps2.append((Vexact - Vrand)/Vexact)"
   ]
  },
  {
   "cell_type": "code",
   "execution_count": 38,
   "metadata": {},
   "outputs": [
    {
     "name": "stdout",
     "output_type": "stream",
     "text": [
      "0.009037662332622853\n"
     ]
    },
    {
     "data": {
      "image/png": "[encoded data removed]",
      "text/plain": [
       "<Figure size 432x288 with 1 Axes>"
      ]
     },
     "metadata": {
      "needs_background": "light"
     },
     "output_type": "display_data"
    }
   ],
   "source": [
    "plt.yscale('log')\n",
    "plt.plot(np.arange(1, 15),np.abs(eps),'.-',label='rand')\n",
    "plt.plot(np.arange(1, 15),np.abs(eps2), '.-', label='quazi')\n",
    "plt.xlabel('D')\n",
    "plt.ylabel('$\\epsilon$')\n",
    "plt.legend()\n",
    "print(eps[1])"
   ]
  },
  {
   "cell_type": "markdown",
   "metadata": {},
   "source": [
    "Сделайте вывды о работе псевдослучайной и квазислучайной последовательностях. "
   ]
  },
  {
   "cell_type": "markdown",
   "metadata": {},
   "source": [
    "В основном квазислучайная последовательность дает значительно меньшую ошибку и ведет себя более равномерно, является более точной."
   ]
  },
  {
   "cell_type": "markdown",
   "metadata": {},
   "source": [
    "## Задание 2\n",
    "\n",
    "Рассмотрим решетку $n\\times n$, в которой каждой ячейке соответствует спин $\\sigma_i$ равный $+1$ или $-1$. При этом между соседними ячейками существует энергия взаимодействия\n",
    "$$\n",
    "E_i = -J \\sigma_i \\sigma_j\n",
    "$$\n",
    "Тогда энергия каждой ячейки \n",
    "$$\n",
    "E_i = -J \\sigma_i \\sum_j \\sigma_j\n",
    "$$\n",
    "где суммирование подразумевается только по соседним с $i$-ой ячейкой.\n",
    "\n",
    "При нулевой температуре энергитически более выгодным состоянием является состояние, когда все спины одинаково ориентированы. Однако при ненулевой температуре вероятность перехода в более возбужденное состояние пропорциональна $\\sim \\exp(-\\Delta E/ k T)$.\n",
    "\n",
    "Явное численное моделирование такой системы (модели Изинга) является проблематичным, поскольку количество возможных состояний системы $2^N$, где $N$ - общее число узлов, и уже для двумерной сетки $16\\times 16$ это число становится астрономически большим. "
   ]
  },
  {
   "cell_type": "markdown",
   "metadata": {},
   "source": [
    "На помощь приходят методы Монте-Карло. Одна из простейших его реализаций (алгоритм Метрополиса — Гастингса):\n",
    "1. Задаем случайное начальное состояние\n",
    "2. Выбираем случайную ячейку\n",
    "3. Переворачиваем её спин и считаем изменение энергии $\\delta E$ данной ячейки.\n",
    "4. Если изменение энергии отрицательное, оставляем спин перевернутым\n",
    "5. Если изменение энергии положительное, оставляем спин перевернутым с вероятностью $\\exp(-\\delta E/kT)$\n",
    "6. Повторяем пункты 2-5 нужное количество раз\n",
    "\n",
    "Спустя достаточно большое количество повторений устанавливается равновесное состояние. "
   ]
  },
  {
   "cell_type": "markdown",
   "metadata": {},
   "source": [
    "Реализуем данный алгоритм: \n",
    "1. Задайте начальное случайное расраспределение в виде матрицы из $+1$ и $-1$ размерности $N\\times N$:"
   ]
  },
  {
   "cell_type": "code",
   "execution_count": 12,
   "metadata": {},
   "outputs": [],
   "source": [
    "def getInitialState(N):\n",
    "    '''\n",
    "    Функция задает случайное начальное состояние\n",
    "    ---------\n",
    "    Аргументы:\n",
    "    N - int, линейный размер решетки \n",
    "    --------\n",
    "    Функция возвращает:\n",
    "    state - numpy ndarray of ints, массив состояния системы размера NxN\n",
    "    '''\n",
    "    state = np.random.choice([-1,1], size=[N,N])\n",
    "    return state"
   ]
  },
  {
   "cell_type": "markdown",
   "metadata": {},
   "source": [
    "2. Напишите функцию, которая для ячейки $(i,j)$ расчитывает изменение её энергии, если изменить её знак. При этом для простоты предполагаем, во-первых, что $J=1$ (на него отнормируем kT), и во-вторых, что элементы находящиеся на верхней и нижней (левой и правой) границах находятся рядом друг с другом (топология тора).  \n"
   ]
  },
  {
   "cell_type": "code",
   "execution_count": 13,
   "metadata": {},
   "outputs": [],
   "source": [
    "def getDeltaE(i, j, state):\n",
    "    '''\n",
    "    Функция расчитывает и возвращает изменение энергии ячейки (i,j) в случае ее переворота (не меняя состояния state)\n",
    "    \n",
    "    ---------\n",
    "    Аргументы:\n",
    "    i - int, адресс ячейки вдоль оси 0\n",
    "    j - int, адресс ячейки вдоль оси 1\n",
    "    state - numpy ndarray of ints, массив состояния системы размера NxN\n",
    "    --------\n",
    "    Функция возвращает:\n",
    "    dE - float, изменение энергии\n",
    "    '''\n",
    "    N = np.shape(state)[0]\n",
    "    i1 = N-1 if i==0 else i-1\n",
    "    j1 = N-1 if j==0 else j-1\n",
    "    i2 = 0 if i==N-1 else i+1\n",
    "    j2 = 0 if j==N-1 else j+1\n",
    "    dE = 2*state[i,j]*(state[i1,j]+state[i2,j]+state[i,j1]+state[i,j2])\n",
    "    return dE"
   ]
  },
  {
   "cell_type": "markdown",
   "metadata": {},
   "source": [
    "3. Напишите функцию, которая $N^2$ раз для разных случайных $(i,j)$ меняет спин в зависимости от изменения энергии, согласно пунктам 4. и 5. "
   ]
  },
  {
   "cell_type": "code",
   "execution_count": 14,
   "metadata": {},
   "outputs": [],
   "source": [
    "def makeFlip(T, state):\n",
    "    '''\n",
    "    Функция N^2 раз переворачивает спин, и принимает решение оставить его перевернутым или нет, согласно правилам 4. и 5.\n",
    "    \n",
    "    ---------\n",
    "    Аргументы:\n",
    "    T - float, положительное число, безразмерный коэфициент, характеризующий температуру, равный kT/J\n",
    "    state - numpy ndarray of ints, массив состояния системы размера NxN\n",
    "    --------\n",
    "    Функция возвращает:\n",
    "    state - numpy ndarray of ints, массив нового состояния системы размера NxN\n",
    "    '''\n",
    "    N = np.shape(state)[0]\n",
    "    for _ in range(N*N):\n",
    "        i, j = np.random.randint(N, size=2)\n",
    "        dE = getDeltaE(i, j, state)\n",
    "        if dE>0:      \n",
    "            state[i, j] *= np.random.choice([-1, 1],p=[np.exp(-dE/T), 1-np.exp(-dE/T)])\n",
    "        else:\n",
    "            state[i, j] *=-1\n",
    "    return state"
   ]
  },
  {
   "cell_type": "markdown",
   "metadata": {},
   "source": [
    "4. Напишите функцию, которая будет рассчитывать значение энергии всей системы (предполагаем $J=1$)."
   ]
  },
  {
   "cell_type": "code",
   "execution_count": 15,
   "metadata": {},
   "outputs": [],
   "source": [
    "def getEnergy(state):\n",
    "    '''\n",
    "    Функция, рассчитывает значение энергии всей системы\n",
    "    ---------\n",
    "    Аргументы:\n",
    "    state - numpy ndarray of ints, массив состояния системы размера NxN\n",
    "    --------\n",
    "    Функция возвращает:\n",
    "    E - float, значение энергии системы\n",
    "    '''\n",
    "    E = 0\n",
    "    N = np.shape(state)[0]\n",
    "    for i in range(N):\n",
    "        for j in range(N):\n",
    "            E -= getDeltaE(i, j, state)/2 #Убиваем двойку из дельты и добавляем минус, чтобы получить энергию 2 ячейки\n",
    "    return E"
   ]
  },
  {
   "cell_type": "markdown",
   "metadata": {},
   "source": [
    "5. Напишите функцию, которая будет рассчитывать значение намагниченности всей системы $M=\\sum \\sigma$"
   ]
  },
  {
   "cell_type": "code",
   "execution_count": 16,
   "metadata": {},
   "outputs": [],
   "source": [
    "def getMagnetization(state):    \n",
    "    '''\n",
    "    Функция, рассчитывает значение намагниченности всей системы\n",
    "    ---------\n",
    "    Аргументы:\n",
    "    state - numpy ndarray of ints, массив состояния системы размера NxN\n",
    "    --------\n",
    "    Функция возвращает:\n",
    "    M - float, значение намагниченности системы\n",
    "    '''\n",
    "    M = np.sum(state)\n",
    "    return M"
   ]
  },
  {
   "cell_type": "markdown",
   "metadata": {},
   "source": [
    "В следующей ячейке кода зададим начальные параметры: \n",
    "\n",
    "**Nt** - количество точек по температуре, \n",
    "\n",
    "**N** - линейный размер решетки, \n",
    "\n",
    "**eqStep** - количество попыток переворота спина, в течение которых система приводится к равновесному сосотоянию. Обратите внимание, что это число должно увеличиваться пропорционально размеру всей сетки,\n",
    "\n",
    "**steps** - количество попыток переворота спина, в течение которых рассчитывается значения энергии и намагниченности (нужно для усреднения расчитанных значений по ансамблю состояний, близких к равновесному)"
   ]
  },
  {
   "cell_type": "code",
   "execution_count": 41,
   "metadata": {},
   "outputs": [],
   "source": [
    "N       = 10#10         # размер решетки NxN\n",
    "Nt      = 10#10         # количество точек температуры\n",
    "eqSteps = 150#150        # количество раз выполнения makeFlip для установления равновесия\n",
    "steps   = 30#30         # количество раз выполнения makeFlip для усреднения энергии и намагниченности\n",
    "\n",
    "T = np.linspace(0.5, 5, Nt); \n",
    "E, M = np.zeros(Nt), np.zeros(Nt)"
   ]
  },
  {
   "cell_type": "code",
   "execution_count": 43,
   "metadata": {},
   "outputs": [
    {
     "name": "stdout",
     "output_type": "stream",
     "text": [
      "Done              \r"
     ]
    },
    {
     "data": {
      "image/png": "[encoded data removed]",
      "text/plain": [
       "<Figure size 720x360 with 2 Axes>"
      ]
     },
     "metadata": {
      "needs_background": "light"
     },
     "output_type": "display_data"
    }
   ],
   "source": [
    "for t in range(Nt):\n",
    "    print(\"Complete\", t/Nt*100, '%\\r', end='')\n",
    "    \n",
    "    Esum = Msum = 0\n",
    "    state = getInitialState(N)\n",
    "    \n",
    "    for i in range(eqSteps):         # установление статистического равновесия\n",
    "        makeFlip(T[t], state)          \n",
    "\n",
    "    for i in range(steps):           # суммирование по разным состояниям близким к равновеснсому\n",
    "        makeFlip(T[t], state)          \n",
    "        Esum += getEnergy(state)       \n",
    "        Msum += getMagnetization(state) \n",
    "\n",
    "    E[t] = Esum / (steps * N * N)\n",
    "    M[t] = Msum / (steps * N * N)\n",
    "\n",
    "print(\"Done              \\r\", end='')\n",
    "\n",
    "_, ax = plt.subplots(1,2,figsize=(10, 5));\n",
    "\n",
    "ax[0].scatter(T, E)\n",
    "ax[0].set_xlabel(\"Temperature\");\n",
    "ax[0].set_ylabel(\"Energy \");\n",
    "\n",
    "ax[1].scatter(T, abs(M), color = 'blue')\n",
    "ax[1].set_xlabel(\"Temperature\"); \n",
    "ax[1].set_ylabel(\"Magnetization \");"
   ]
  },
  {
   "cell_type": "markdown",
   "metadata": {},
   "source": [
    "Интерпретируйте с точки зрения физики полученные графики. Описывают ли они поведение ферромагнетиков и фазовые переходы?"
   ]
  },
  {
   "attachments": {},
   "cell_type": "markdown",
   "metadata": {},
   "source": [
    "Да, все хорошо. \n",
    "Качественно все в порядке -- наманиченность с ростом температуры падает, энергия, наоборот, растет."
   ]
  },
  {
   "cell_type": "markdown",
   "metadata": {},
   "source": [
    "Задайте новое сосотояние системы с достаточно большим $N$ и визуализируйте его думя цветами (например с помощью `plt.scatter`). Примените несколько раз к этому сосотоянию функциию makeFlip с низкой и с высокой температурами. Объясните наблюдаемое"
   ]
  },
  {
   "cell_type": "code",
   "execution_count": 49,
   "metadata": {},
   "outputs": [],
   "source": [
    "N = 64\n",
    "state = getInitialState(N)"
   ]
  },
  {
   "cell_type": "code",
   "execution_count": 50,
   "metadata": {},
   "outputs": [
    {
     "data": {
      "text/plain": [
       "<matplotlib.image.AxesImage at 0x1b65e23e7f0>"
      ]
     },
     "execution_count": 50,
     "metadata": {},
     "output_type": "execute_result"
    },
    {
     "data": {
      "image/png": "[encoded data removed]",
      "text/plain": [
       "<Figure size 432x288 with 1 Axes>"
      ]
     },
     "metadata": {
      "needs_background": "light"
     },
     "output_type": "display_data"
    }
   ],
   "source": [
    "plt.figure()\n",
    "# Write your code here\n",
    "plt.title('До')\n",
    "plt.imshow(state)"
   ]
  },
  {
   "cell_type": "code",
   "execution_count": 51,
   "metadata": {},
   "outputs": [],
   "source": [
    "stateLow = state.copy()\n",
    "tLow = 0.5\n",
    "for _ in range(30):\n",
    "    stateLow = makeFlip(tLow, stateLow)"
   ]
  },
  {
   "cell_type": "code",
   "execution_count": 52,
   "metadata": {},
   "outputs": [
    {
     "data": {
      "text/plain": [
       "Text(0.5, 1.0, 'После: низкая температура')"
      ]
     },
     "execution_count": 52,
     "metadata": {},
     "output_type": "execute_result"
    },
    {
     "data": {
      "image/png": "[encoded data removed]",
      "text/plain": [
       "<Figure size 432x288 with 1 Axes>"
      ]
     },
     "metadata": {
      "needs_background": "light"
     },
     "output_type": "display_data"
    }
   ],
   "source": [
    "values = np.unique(stateLow.ravel())\n",
    "im = plt.imshow(stateLow, interpolation='none')\n",
    "colors = [ im.cmap(im.norm(value)) for value in values]\n",
    "patches = [ mpatches.Patch(color=colors[i], label=\"$\\sigma$={l}\".format(l=values[i]) ) for i in range(len(values)) ]\n",
    "plt.legend(handles=patches)\n",
    "plt.title('После: низкая температура')"
   ]
  },
  {
   "cell_type": "code",
   "execution_count": 53,
   "metadata": {},
   "outputs": [],
   "source": [
    "stateHigh = state.copy()\n",
    "tLow = 50\n",
    "for _ in range(30):\n",
    "    stateHigh = makeFlip(tLow, stateLow)"
   ]
  },
  {
   "cell_type": "code",
   "execution_count": 54,
   "metadata": {},
   "outputs": [
    {
     "data": {
      "text/plain": [
       "Text(0.5, 1.0, 'После: высокая температура')"
      ]
     },
     "execution_count": 54,
     "metadata": {},
     "output_type": "execute_result"
    },
    {
     "data": {
      "image/png": "[encoded data removed]",
      "text/plain": [
       "<Figure size 432x288 with 1 Axes>"
      ]
     },
     "metadata": {
      "needs_background": "light"
     },
     "output_type": "display_data"
    }
   ],
   "source": [
    "values = np.unique(stateHigh.ravel())\n",
    "im = plt.imshow(stateHigh, interpolation='none')\n",
    "colors = [ im.cmap(im.norm(value)) for value in values]\n",
    "patches = [ mpatches.Patch(color=colors[i], label=\"$\\sigma$={l}\".format(l=values[i]) ) for i in range(len(values)) ]\n",
    "plt.legend(handles=patches)\n",
    "plt.title('После: высокая температура')"
   ]
  },
  {
   "cell_type": "markdown",
   "metadata": {},
   "source": [
    "Как мы видим, на низких температурах проявляются ферромагнитные св-ва: спины образуют кластеры, поворачиваясь в одну сторону. На высоких температурах этот эффект незаметен -- ферромагнитные свойства слабые. Это согласуется с графиком намагниченности."
   ]
  },
  {
   "cell_type": "code",
   "execution_count": null,
   "metadata": {},
   "outputs": [],
   "source": []
  }
 ],
 "metadata": {
  "kernelspec": {
   "display_name": "Python 3",
   "language": "python",
   "name": "python3"
  },
  "language_info": {
   "codemirror_mode": {
    "name": "ipython",
    "version": 3
   },
   "file_extension": ".py",
   "mimetype": "text/x-python",
   "name": "python",
   "nbconvert_exporter": "python",
   "pygments_lexer": "ipython3",
   "version": "3.7.1"
  }
 },
 "nbformat": 4,
 "nbformat_minor": 4
}
