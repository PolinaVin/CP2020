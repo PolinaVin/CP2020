{
 "cells": [
  {
   "cell_type": "markdown",
   "metadata": {},
   "source": [
    "# Simple iteration for systems of linear equations"
   ]
  },
  {
   "cell_type": "markdown",
   "metadata": {},
   "source": [
    "First, generate a random diagonally dominant matrix, for testing."
   ]
  },
  {
   "cell_type": "code",
   "execution_count": 2,
   "metadata": {},
   "outputs": [],
   "source": [
    "import numpy as np\n",
    "rndm = np.random.RandomState(1234)\n",
    "\n",
    "n = 10\n",
    "A = rndm.uniform(size=(n, n)) + np.diagflat([15]*n)\n",
    "b = rndm.uniform(size=n)"
   ]
  },
  {
   "cell_type": "markdown",
   "metadata": {},
   "source": [
    "# I.  Jacobi iteration\n",
    "\n",
    "Given\n",
    "\n",
    "$$\n",
    "A x = b\n",
    "$$\n",
    "\n",
    "separate the diagonal part $D$,\n",
    "\n",
    "$$ A = D + (A - D) $$\n",
    "\n",
    "and write\n",
    "\n",
    "$$\n",
    "x = D^{-1} (D - A) x + D^{-1} b\\;.\n",
    "$$\n",
    "\n",
    "Then iterate\n",
    "\n",
    "$$\n",
    "x_{n + 1} = B x_{n} + c\\;,\n",
    "$$\n",
    "\n",
    "where \n",
    "\n",
    "$$\n",
    "B = D^{-1} (A - D) \\qquad \\text{and} \\qquad c = D^{-1} b\n",
    "$$\n"
   ]
  },
  {
   "cell_type": "markdown",
   "metadata": {},
   "source": [
    "Let's construct the matrix and the r.h.s. for the Jacobi iteration"
   ]
  },
  {
   "cell_type": "code",
   "execution_count": 3,
   "metadata": {},
   "outputs": [],
   "source": [
    "diag_1d = np.diag(A)\n",
    "\n",
    "B = -A.copy()\n",
    "np.fill_diagonal(B, 0)#A с нулевой диагональю(D-A)\n",
    "\n",
    "D = np.diag(diag_1d)#Действительно D\n",
    "\n",
    "invD = np.diag(1./diag_1d)#D^-1\n",
    "BB = invD @ B #B=D^-1(D-A)\n",
    "c = invD @ b "
   ]
  },
  {
   "cell_type": "code",
   "execution_count": 4,
   "metadata": {},
   "outputs": [],
   "source": [
    "# sanity checks\n",
    "from numpy.testing import assert_allclose\n",
    "\n",
    "assert_allclose(-B + D, A)\n",
    "\n",
    "\n",
    "# xx is a \"ground truth\" solution, compute it using a direct method\n",
    "xx = np.linalg.solve(A, b)\n",
    "\n",
    "np.testing.assert_allclose(A@xx, b)\n",
    "np.testing.assert_allclose(D@xx, B@xx + b)\n",
    "np.testing.assert_allclose(xx, BB@xx + c)"
   ]
  },
  {
   "cell_type": "markdown",
   "metadata": {},
   "source": [
    "Check that $\\| B\\| \\leqslant 1$:"
   ]
  },
  {
   "cell_type": "code",
   "execution_count": 5,
   "metadata": {},
   "outputs": [
    {
     "data": {
      "text/plain": [
       "0.36436161983015336"
      ]
     },
     "execution_count": 5,
     "metadata": {},
     "output_type": "execute_result"
    }
   ],
   "source": [
    "np.linalg.norm(BB)"
   ]
  },
  {
   "cell_type": "markdown",
   "metadata": {},
   "source": [
    "### Do the Jacobi iteration"
   ]
  },
  {
   "cell_type": "code",
   "execution_count": 6,
   "metadata": {},
   "outputs": [
    {
     "data": {
      "text/plain": [
       "array([ 0.03919429,  0.03780037,  0.04283232,  0.02365951,  0.05745031,\n",
       "       -0.00030244, -0.00577279,  0.03177549, -0.00422849,  0.05284648])"
      ]
     },
     "execution_count": 6,
     "metadata": {},
     "output_type": "execute_result"
    }
   ],
   "source": [
    "n_iter = 50\n",
    "n_i = 1\n",
    "x0 = np.ones(n)\n",
    "\n",
    "x = x0\n",
    "for _ in range(n_iter):\n",
    "    x = BB @ x + c\n",
    "x"
   ]
  },
  {
   "cell_type": "code",
   "execution_count": 7,
   "metadata": {},
   "outputs": [
    {
     "data": {
      "text/plain": [
       "array([ 1.11022302e-16,  0.00000000e+00,  0.00000000e+00,  0.00000000e+00,\n",
       "        0.00000000e+00,  0.00000000e+00, -1.73472348e-17,  0.00000000e+00,\n",
       "       -2.77555756e-17,  2.22044605e-16])"
      ]
     },
     "execution_count": 7,
     "metadata": {},
     "output_type": "execute_result"
    }
   ],
   "source": [
    "# Check the result:\n",
    "\n",
    "A @ x - b"
   ]
  },
  {
   "cell_type": "markdown",
   "metadata": {},
   "source": [
    "### Task I.1\n",
    "\n",
    "Collect the proof-of-concept above into a single function implementing the Jacobi iteration. This function should receive the r.h.s. matrix $A$, the l.h.s. vector `b`, and the number of iterations to perform.\n",
    "\n",
    "\n",
    "The matrix $A$ in the illustration above is strongly diagonally dominant, by construction. \n",
    "What happens if the diagonal matrix elements of $A$ are made smaller? Check the convergence of the Jacobi iteration, and check the value of the norm of $B$.\n",
    "\n",
    "(20% of the total grade)\n"
   ]
  },
  {
   "cell_type": "code",
   "execution_count": 17,
   "metadata": {},
   "outputs": [],
   "source": [
    "import matplotlib.pyplot as plt\n",
    "\n",
    "def Jacobi(A, b, n_iter):\n",
    "    n = np.shape(A)[0]\n",
    "    diag_1d = np.diag(A)\n",
    "    B = -A.copy()\n",
    "    np.fill_diagonal(B, 0)#A с нулевой диагональю(D-A)\n",
    "\n",
    "    D = np.diag(diag_1d)#Действительно D\n",
    "    invD = np.diag(1. / diag_1d)#D^-1\n",
    "    BB = invD @ B #B=D^-1(D-A)\n",
    "    assert (np.linalg.norm(BB)<1), 'matrix is non strongly diagonally dominant' #Проверяем норму B\n",
    "    c = invD @ b #rhs\n",
    "    x = np.ones(n)\n",
    "    for _ in range(n_iter):\n",
    "        x = BB @ x + c\n",
    "    return x"
   ]
  },
  {
   "cell_type": "code",
   "execution_count": 30,
   "metadata": {},
   "outputs": [
    {
     "data": {
      "image/png": "[encoded data removed]",
      "text/plain": [
       "<Figure size 432x288 with 1 Axes>"
      ]
     },
     "metadata": {
      "needs_background": "light"
     },
     "output_type": "display_data"
    }
   ],
   "source": [
    "#Let's check the convergence for a strongly diagonally dominant matrix\n",
    "#(Functon also checks the value of the norm of the matrix B and returns assert if ||B||>1)\n",
    "A0 = rndm.uniform(size=(n, n)) + np.diagflat([15]*n)\n",
    "b0 = rndm.uniform(size=n)\n",
    "\n",
    "ind = np.arange(50)\n",
    "my = []\n",
    "x_true = np.linalg.solve(A0, b0)\n",
    "for i in ind:\n",
    "    my.append(np.linalg.norm(Jacobi(A0, b0, i) - x_true))#Проверяем, сходится ли наше решение к верному и как сходится\n",
    "plt.plot(ind, my)\n",
    "plt.title('difference between our and true solution')\n",
    "plt.xlabel('number of iterations')\n",
    "plt.ylabel('norm')\n",
    "plt.yscale('log')#Логарифмическая шкала помогает понять, что сходится у нас все хорошо, а в районе машинного эпсилона начинается ерунда по понятным причинам"
   ]
  },
  {
   "cell_type": "code",
   "execution_count": 31,
   "metadata": {},
   "outputs": [
    {
     "data": {
      "image/png": "[encoded data removed]",
      "text/plain": [
       "<Figure size 432x288 with 1 Axes>"
      ]
     },
     "metadata": {
      "needs_background": "light"
     },
     "output_type": "display_data"
    }
   ],
   "source": [
    "#Let's check how Jacobi method will solve a non strongly diagonally dominant matrix\n",
    "A0 = rndm.uniform(size=(n, n)) + np.diagflat([1]*n)\n",
    "b0 = rndm.uniform(size=n)\n",
    "\n",
    "def Jacobi2(A, b, n_iter):\n",
    "    n = np.shape(A)[0]\n",
    "    diag_1d = np.diag(A)\n",
    "    B = -A.copy()\n",
    "    np.fill_diagonal(B, 0)#A с нулевой диагональю(D-A)\n",
    "\n",
    "    D = np.diag(diag_1d)#Действительно D\n",
    "    invD = np.diag(1. / diag_1d)#D^-1\n",
    "    BB = invD @ B #B=D^-1(D-A)\n",
    "    c = invD @ b #rhs\n",
    "    x = np.ones(n)\n",
    "    for _ in range(n_iter):\n",
    "        x = BB @ x + c\n",
    "    return x\n",
    "ind = np.arange(50)\n",
    "my = []\n",
    "x_true = np.linalg.solve(A0, b0)\n",
    "for i in ind:\n",
    "    my.append(np.linalg.norm(Jacobi2(A0, b0, i)-x_true))\n",
    "plt.plot(ind, my)\n",
    "plt.title('difference between our and true solution')\n",
    "plt.xlabel('number of iterations')\n",
    "plt.ylabel('norm')\n",
    "plt.yscale('log')"
   ]
  },
  {
   "cell_type": "markdown",
   "metadata": {},
   "source": [
    "# II. Seidel's iteration."
   ]
  },
  {
   "cell_type": "markdown",
   "metadata": {},
   "source": [
    "##### Task II.1\n",
    "\n",
    "Implement the Seidel's iteration. \n",
    "\n",
    "Test it on a random matrix. Study the convergence of iterations, relate to the norm of the iteration matrix.\n",
    "\n",
    "(30% of the total grade)"
   ]
  },
  {
   "cell_type": "code",
   "execution_count": 22,
   "metadata": {},
   "outputs": [],
   "source": [
    "# ... ENTER YOUR CODE HERE ...\n",
    "def Seidel(A, b, n_it):\n",
    "    n = np.shape(A)[0]\n",
    "    x = np.ones(n)\n",
    "    for _ in range(n_it):\n",
    "        for i in range(n):\n",
    "            x[i] = (sum((A[i] != A[i][i]) * A[i] * x) * (-1) + b[i]) / A[i][i]\n",
    "    return x"
   ]
  },
  {
   "cell_type": "markdown",
   "metadata": {
    "collapsed": true
   },
   "source": [
    "Let's repeat our two tests: we expect the same result as Jacobi showed"
   ]
  },
  {
   "cell_type": "code",
   "execution_count": 29,
   "metadata": {},
   "outputs": [
    {
     "name": "stdout",
     "output_type": "stream",
     "text": [
      "0.2829549925842387\n"
     ]
    },
    {
     "data": {
      "image/png": "[encoded data removed]",
      "text/plain": [
       "<Figure size 432x288 with 1 Axes>"
      ]
     },
     "metadata": {
      "needs_background": "light"
     },
     "output_type": "display_data"
    }
   ],
   "source": [
    "#1.Diagonal\n",
    "A0 = rndm.uniform(size=(n, n)) + np.diagflat([15]*n)\n",
    "b0 = rndm.uniform(size=n)\n",
    "\n",
    "\n",
    "ind = np.arange(50)\n",
    "my = []\n",
    "x_true = np.linalg.solve(A0, b0)\n",
    "\n",
    "for i in ind:\n",
    "    my.append(np.linalg.norm(Seidel(A0, b0, i)-x_true))\n",
    "    \n",
    "plt.plot(ind, my)\n",
    "n = np.shape(A)[0]\n",
    "#Let's check the norm of iteration matrix I = (L + D)^-1 * U\n",
    "LD = [[A0[i][j] if i <= j else 0 for i in range(n)] for j in range(n)] \n",
    "U = A0 - LD\n",
    "LD = np.linalg.inv(LD)\n",
    "plt.title('difference between our and true solution')\n",
    "plt.xlabel('number of iterations')\n",
    "plt.ylabel('norm')\n",
    "plt.yscale('log')\n",
    "print(np.linalg.norm(LD @ U))"
   ]
  },
  {
   "cell_type": "code",
   "execution_count": 35,
   "metadata": {},
   "outputs": [
    {
     "data": {
      "image/png": "[encoded data removed]",
      "text/plain": [
       "<Figure size 432x288 with 1 Axes>"
      ]
     },
     "metadata": {
      "needs_background": "light"
     },
     "output_type": "display_data"
    }
   ],
   "source": [
    "#absolutely random matrix\n",
    "A0 = rndm.uniform(size=(n, n))\n",
    "b0 = rndm.uniform(size=n)\n",
    "\n",
    "my = []\n",
    "x_true = np.linalg.solve(A0, b0)\n",
    "\n",
    "for i in ind:\n",
    "    my.append(np.linalg.norm(Seidel(A0, b0, i)-x_true))\n",
    "    \n",
    "plt.plot(ind, my)\n",
    "n = np.shape(A0)[0]\n",
    "\n",
    "plt.title('difference between our and true solution')\n",
    "plt.xlabel('number of iterations')\n",
    "plt.ylabel('norm')\n",
    "plt.yscale('log')\n",
    "#Все расходится"
   ]
  },
  {
   "cell_type": "markdown",
   "metadata": {},
   "source": [
    "As we can see, our expextations are were met. Now let's check one more moment: Jacobi method has to be better for ~diagonal matrix and Seidel for ~triangular"
   ]
  },
  {
   "cell_type": "code",
   "execution_count": 47,
   "metadata": {},
   "outputs": [
    {
     "name": "stdout",
     "output_type": "stream",
     "text": [
      "7.989137097083998e-06 2.933360805352404e-13\n",
      "38447.06892820984 4.698219090689264e-11\n"
     ]
    }
   ],
   "source": [
    "Ad = rndm.uniform(size=(n, n)) + np.diagflat([15]*n)\n",
    "At = rndm.uniform(size=(n, n)) + [[15 if i <= j else 0 for i in range(n)] for j in range(n)] \n",
    "\n",
    "xd = np.linalg.solve(Ad, b0)\n",
    "xt = np.linalg.solve(At, b0)\n",
    "\n",
    "print(np.linalg.norm(Jacobi2(Ad, b0, 10) - xd), np.linalg.norm(Seidel(Ad, b0, 10) - xd))\n",
    "print(np.linalg.norm(Jacobi2(At, b0, 10) - xt), np.linalg.norm(Seidel(At, b0, 10) - xt))"
   ]
  },
  {
   "cell_type": "markdown",
   "metadata": {},
   "source": [
    "As we can see, for diaronal matrix Seidel works better than Jacobi, and works pretty good for triangular matrix(unlike the Jacobi method, which doesn't have a limit). I toke 10 as number of iterations, because plot shows that after ~15 iterations deviation is equal to the machine eps and our comparisons wouldn't have any sense."
   ]
  },
  {
   "cell_type": "markdown",
   "metadata": {},
   "source": [
    "# III. Minimum residual scheme"
   ]
  },
  {
   "cell_type": "markdown",
   "metadata": {},
   "source": [
    "### Task III.1\n",
    "\n",
    "Implement the $\\textit{minimum residual}$ scheme: an explicit non-stationary method, where at each step you select the iteration parameter $\\tau_n$ to minimize the residual $\\mathbf{r}_{n+1}$ given $\\mathbf{r}_n$. Test it on a random matrix, study the convergence to the solution, in terms of the norm of the residual and the deviation from the ground truth solution (which you can obtain using a direct method). Study how the iteration parameter $\\tau_n$ changes as iterations progress.\n",
    "\n",
    "(50% of the grade)"
   ]
  },
  {
   "cell_type": "code",
   "execution_count": 68,
   "metadata": {},
   "outputs": [],
   "source": [
    "# ... ENTER YOUR CODE HERE ...\n",
    "def min_res(A, b, n_it):\n",
    "    x = np.ones(np.shape(A)[0])\n",
    "    for _ in range(n_it):\n",
    "        r = A @ x - b\n",
    "        if np.linalg.norm(A @ r) < 1e-45:\n",
    "            return x\n",
    "        tau = np.dot(r, A @ r) / np.linalg.norm(A @ r)**2\n",
    "        x = x - tau * r \n",
    "    return x"
   ]
  },
  {
   "cell_type": "code",
   "execution_count": 67,
   "metadata": {},
   "outputs": [
    {
     "data": {
      "image/png": "[encoded data removed]",
      "text/plain": [
       "<Figure size 432x288 with 1 Axes>"
      ]
     },
     "metadata": {
      "needs_background": "light"
     },
     "output_type": "display_data"
    }
   ],
   "source": [
    "mr_sol = []\n",
    "x_true = np.linalg.solve(Ad, b0)\n",
    "for i in ind:\n",
    "    mr_sol.append(np.linalg.norm(min_res(Ad, b0, i)- x_true)) \n",
    "plt.plot(ind, mr_sol,'-')\n",
    "\n",
    "plt.title('difference between our and true solution')\n",
    "plt.xlabel('number of iterations')\n",
    "plt.ylabel('norm')\n",
    "plt.yscale('log')"
   ]
  }
 ],
 "metadata": {
  "kernelspec": {
   "display_name": "Python 3",
   "language": "python",
   "name": "python3"
  },
  "language_info": {
   "codemirror_mode": {
    "name": "ipython",
    "version": 3
   },
   "file_extension": ".py",
   "mimetype": "text/x-python",
   "name": "python",
   "nbconvert_exporter": "python",
   "pygments_lexer": "ipython3",
   "version": "3.7.1"
  }
 },
 "nbformat": 4,
 "nbformat_minor": 2
}
