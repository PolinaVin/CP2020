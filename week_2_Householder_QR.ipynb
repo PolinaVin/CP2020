{
 "cells": [
  {
   "cell_type": "code",
   "execution_count": 1,
   "metadata": {},
   "outputs": [],
   "source": [
    "import numpy as np\n",
    "\n",
    "from numpy.testing import assert_allclose"
   ]
  },
  {
   "cell_type": "markdown",
   "metadata": {},
   "source": [
    "# Part I. Construct a Householder reflection of a vector."
   ]
  },
  {
   "cell_type": "markdown",
   "metadata": {},
   "source": [
    "Given a vector $\\mathbf{x}$, and a plane with a normal vector $\\mathbf{u}$, the Householder transformation reflects $\\mathbf{x}$ about the plane.\n",
    "\n",
    "The matrix of the Householder transformation is\n",
    "\n",
    "$$\n",
    "\\mathbf{H} = \\mathbf{1} - 2 \\mathbf{u} \\mathbf{u}^T\n",
    "$$\n",
    "\n",
    "Given two equal-length vectors $\\mathbf{x}$ and $\\mathbf{y}$, a rotation which brings $\\mathbf{x}$ to $\\mathbf{y}$ is a Householder transform with\n",
    "\n",
    "$$\n",
    "\\mathbf{u} = \\frac{\\mathbf{x} - \\mathbf{y}}{\\left|\\mathbf{x} - \\mathbf{y}\\right|}\n",
    "$$"
   ]
  },
  {
   "cell_type": "markdown",
   "metadata": {},
   "source": [
    "Write a function which rotates a given vector, $\\mathbf{x} = (x_1, \\dots, x_n)$ into $\\mathbf{y} = (\\left|\\mathbf{x}\\right|, 0, \\dots, 0)^T$ using a Householder transformation."
   ]
  },
  {
   "cell_type": "code",
   "execution_count": 2,
   "metadata": {},
   "outputs": [],
   "source": [
    "def householder(vec):\n",
    "    \"\"\"Construct a Householder reflection to zero out 2nd and further components of a vector.\n",
    "\n",
    "    Parameters\n",
    "    ----------\n",
    "    vec : array-like of floats, shape (n,)\n",
    "        Input vector\n",
    "    \n",
    "    Returns\n",
    "    -------\n",
    "    outvec : array of floats, shape (n,)\n",
    "        Transformed vector, with ``outvec[1:]==0`` and ``|outvec| == |vec|``\n",
    "    H : array of floats, shape (n, n)\n",
    "        Orthogonal matrix of the Householder reflection\n",
    "    \"\"\"\n",
    "\n",
    "    vec = np.asarray(vec, dtype=float)\n",
    "    if vec.ndim != 1:\n",
    "        raise ValueError(\"vec.ndim = %s, expected 1\" % vec.ndim)\n",
    "    module = np.linalg.norm(vec)\n",
    "    y = np.zeros_like(vec)\n",
    "    y[0] = module\n",
    "    u = np.zeros_like(vec)\n",
    "    u = (vec-y)/np.linalg.norm(vec-y)\n",
    "    if abs(u[0])<1e-6:\n",
    "        u[0] = -(sum(vec**2)-vec[0]**2)/(vec[0]+module) \n",
    "    U = u.T\n",
    "    H = np.identity(np.shape(vec)[0]) - 2 * np.dot(u.reshape(-1,1), U.reshape(1,-1))\n",
    "    \n",
    "        \n",
    "    return y, H"
   ]
  },
  {
   "cell_type": "markdown",
   "metadata": {},
   "source": [
    "Test your function using tests below:"
   ]
  },
  {
   "cell_type": "code",
   "execution_count": 3,
   "metadata": {},
   "outputs": [
    {
     "name": "stdout",
     "output_type": "stream",
     "text": [
      "v\n",
      "[1 2 3]\n",
      "v1 = h @ v1\n",
      "[1. 2. 3.]\n",
      "v1\n",
      "[3.74165739 0.         0.        ]\n",
      "v1 = h @ v\n",
      "[ 3.74165739e+00  0.00000000e+00 -1.11022302e-16]\n",
      "h\n",
      "[[ 0.26726124  0.53452248  0.80178373]\n",
      " [ 0.53452248  0.61007346 -0.5848898 ]\n",
      " [ 0.80178373 -0.5848898   0.12266529]]\n"
     ]
    }
   ],
   "source": [
    "# Test I.1 (10% of the total grade).\n",
    "\n",
    "v = np.array([1, 2, 3])\n",
    "v1, h = householder(v)\n",
    "print('v',v, 'v1 = h @ v1', h@v1,'v1', v1,'v1 = h @ v',np.dot(h, v),'h', h, sep = '\\n')\n",
    "\n",
    "assert_allclose(np.dot(h, v1), v, atol=1e-15)\n",
    "assert_allclose(np.dot(h, v), v1, atol=1e-15)"
   ]
  },
  {
   "cell_type": "code",
   "execution_count": 4,
   "metadata": {},
   "outputs": [
    {
     "name": "stdout",
     "output_type": "stream",
     "text": [
      "vec\n",
      "[0.19151945 0.62210877 0.43772774 0.78535858 0.77997581 0.27259261\n",
      " 0.27646426]\n",
      "v1 = h @ v1\n",
      "[0.19151945 0.62210877 0.43772774 0.78535858 0.77997581 0.27259261\n",
      " 0.27646426]\n",
      "v1\n",
      "[1.4110968 0.        0.        0.        0.        0.        0.       ]\n",
      "v1 = h @ vec\n",
      "[ 1.41109680e+00 -1.11022302e-16  2.77555756e-17  5.55111512e-17\n",
      "  4.16333634e-17  4.51028104e-17  0.00000000e+00]\n"
     ]
    }
   ],
   "source": [
    "# Test I.2 (10% of the total grade).\n",
    "\n",
    "rndm = np.random.RandomState(1234)\n",
    "\n",
    "vec = rndm.uniform(size=7)\n",
    "v1, h = householder(vec)\n",
    "assert_allclose(np.dot(h, v1), vec)\n",
    "print('vec',vec, 'v1 = h @ v1', h@v1,'v1', v1,'v1 = h @ vec',np.dot(h, vec), sep = '\\n')\n"
   ]
  },
  {
   "cell_type": "markdown",
   "metadata": {},
   "source": [
    "# Part II. Compute the $\\mathrm{QR}$ decomposition of a matrix.\n",
    "\n",
    "Given a rectangular $m\\times n$ matrix $\\mathbf{A}$, construct a Householder reflector matrix $\\mathbf{H}_1$ which transforms the first column of $\\mathbf{A}$ (and call the result $\\mathbf{A}^{(1)}$)\n",
    "\n",
    "$$\n",
    "\\mathbf{H}_1 \\mathbf{A} =%\n",
    "\\begin{pmatrix}\n",
    "\\times & \\times & \\times & \\dots & \\times \\\\\n",
    "0      & \\times & \\times & \\dots & \\times \\\\\n",
    "0      & \\times & \\times & \\dots & \\times \\\\\n",
    "&& \\dots&& \\\\\n",
    "0      & \\times & \\times & \\dots & \\times \\\\\n",
    "\\end{pmatrix}%\n",
    "\\equiv \\mathbf{A}^{(1)}\\;.\n",
    "$$\n",
    "\n",
    "Now consider the lower-right submatrix of $\\mathbf{A}^{(1)}$, and construct a Householder reflector which annihilates the second column of $\\mathbf{A}$:\n",
    "\n",
    "$$\n",
    "\\mathbf{H}_2 \\mathbf{A}^{(1)} =%\n",
    "\\begin{pmatrix}\n",
    "\\times & \\times & \\times & \\dots & \\times \\\\\n",
    "0      & \\times & \\times & \\dots & \\times \\\\\n",
    "0      & 0      & \\times & \\dots & \\times \\\\\n",
    "&& \\dots&& \\\\\n",
    "0      & 0      & \\times & \\dots & \\times \\\\\n",
    "\\end{pmatrix}%\n",
    "\\equiv \\mathbf{A}^{(2)} \\;.\n",
    "$$\n",
    "\n",
    "Repeating the process $n-1$ times, we obtain\n",
    "\n",
    "$$\n",
    "\\mathbf{H}_{n-1} \\cdots \\mathbf{H}_2 \\mathbf{H}_1 \\mathbf{A} = \\mathbf{R} \\;,\n",
    "$$\n",
    "\n",
    "with $\\mathbf{R}$ an upper triangular matrix. Since each $\\mathbf{H}_k$ is orthogonal, so is their product. The inverse of an orthogonal matrix is orthogonal. Hence the process generates the $\\mathrm{QR}$ decomposition of $\\mathbf{A}$. "
   ]
  },
  {
   "cell_type": "markdown",
   "metadata": {},
   "source": [
    "Write a function, which receives a recangular matrix, $A$, and returns the Q and R factors of the $QR$ factorization of $A$."
   ]
  },
  {
   "cell_type": "code",
   "execution_count": 5,
   "metadata": {},
   "outputs": [],
   "source": [
    "def qr_decomp(a):\n",
    "    \"\"\"Compute the QR decomposition of a matrix.\n",
    "    \n",
    "    Parameters\n",
    "    ----------\n",
    "    a : ndarray, shape(m, n)\n",
    "        The input matrix\n",
    "    \n",
    "    Returns\n",
    "    -------\n",
    "    q : ndarray, shape(m, m)\n",
    "        The orthogonal matrix\n",
    "    r : ndarray, shape(m, n)\n",
    "        The upper triangular matrix\n",
    "        \n",
    "    Examples\n",
    "    --------\n",
    "    >>> a = np.random.random(size=(3, 5))\n",
    "    >>> q, r = qr_decomp(a)\n",
    "    >>> np.assert_allclose(np.dot(q, r), a)\n",
    "    \n",
    "    \"\"\"\n",
    "    a1 = np.array(a, copy=True, dtype=float)\n",
    "    m, n = a1.shape\n",
    "    H = np.eye(m)\n",
    "   \n",
    "    for i in range(n if n<m else m-1):\n",
    "        matrix = a1[i:, i:]\n",
    "        vec = matrix[:,0]\n",
    "        Hi = np.eye(m)\n",
    "        Hi[i:, i:] = householder(vec)[1]\n",
    "        a1 = Hi @ a1\n",
    "        H = Hi @ H\n",
    "    return H.T, H@a\n",
    "    "
   ]
  },
  {
   "cell_type": "code",
   "execution_count": 6,
   "metadata": {},
   "outputs": [],
   "source": [
    "# Might want to turn this on for prettier printing: zeros instead of `1e-16` etc\n",
    "np.set_printoptions(suppress=True)"
   ]
  },
  {
   "cell_type": "code",
   "execution_count": 7,
   "metadata": {},
   "outputs": [
    {
     "name": "stdout",
     "output_type": "stream",
     "text": [
      "a\n",
      "[[0.19151945 0.62210877 0.43772774]\n",
      " [0.78535858 0.77997581 0.27259261]\n",
      " [0.27646426 0.80187218 0.95813935]\n",
      " [0.87593263 0.35781727 0.50099513]\n",
      " [0.68346294 0.71270203 0.37025075]]\n",
      "q\n",
      "[[ 0.13665049  0.53601299 -0.09369752  0.7697136   0.30459557]\n",
      " [ 0.56035895  0.0935397  -0.53326881  0.01839528 -0.62652547]\n",
      " [ 0.19725922  0.65948912  0.60068463 -0.32384673 -0.24589462]\n",
      " [ 0.62498418 -0.50418303  0.52144688  0.28453698  0.04822969]\n",
      " [ 0.48765568  0.12171264 -0.27224305 -0.47049398  0.67223293]]\n",
      "r\n",
      "[[1.40152769 1.2514379  0.89523615]\n",
      " [0.         0.84158252 0.68447942]\n",
      " [0.         0.         0.5496046 ]\n",
      " [0.         0.         0.        ]\n",
      " [0.         0.         0.        ]]\n"
     ]
    }
   ],
   "source": [
    "# Test II.1 (20% of the total grade)\n",
    "\n",
    "rndm = np.random.RandomState(1234)\n",
    "a = rndm.uniform(size=(5,3))\n",
    "print('a', a, sep='\\n')\n",
    "q, r = qr_decomp(a)\n",
    "print('q', q, 'r',r, sep='\\n')\n",
    "# test that Q is indeed orthogonal\n",
    "assert_allclose(np.dot(q, q.T), np.eye(5), atol=1e-10)\n",
    "\n",
    "# test the decomposition itself\n",
    "assert_allclose(np.dot(q, r), a)"
   ]
  },
  {
   "cell_type": "markdown",
   "metadata": {},
   "source": [
    "Now compare your decompositions to the library function (which actually wraps the corresponding LAPACK functions)"
   ]
  },
  {
   "cell_type": "code",
   "execution_count": 8,
   "metadata": {},
   "outputs": [
    {
     "name": "stdout",
     "output_type": "stream",
     "text": [
      "Q from library\n",
      "[[-0.13665049  0.53601299  0.09369752  0.661619   -0.49749149]\n",
      " [-0.56035895  0.0935397   0.53326881 -0.52477245 -0.34276292]\n",
      " [-0.19725922  0.65948912 -0.60068463 -0.37879015  0.14784752]\n",
      " [-0.62498418 -0.50418303 -0.52144688  0.18967657 -0.21750907]\n",
      " [-0.48765568  0.12171264  0.27224305  0.32774225  0.75222783]]\n",
      "R from library\n",
      "[[-1.40152769 -1.2514379  -0.89523615]\n",
      " [ 0.          0.84158252  0.68447942]\n",
      " [ 0.          0.         -0.5496046 ]\n",
      " [ 0.          0.          0.        ]\n",
      " [ 0.          0.          0.        ]]\n"
     ]
    }
   ],
   "source": [
    "from scipy.linalg import qr\n",
    "qq, rr = qr(a)\n",
    "print('Q from library', qq, 'R from library', rr, sep='\\n')\n",
    "assert_allclose(np.dot(qq, rr), a)"
   ]
  },
  {
   "cell_type": "markdown",
   "metadata": {},
   "source": [
    "Check if your `q` and `r` agree with `qq` and `rr`. Explain."
   ]
  },
  {
   "cell_type": "markdown",
   "metadata": {},
   "source": [
    "*Enter your explanation here* (10% of the total grade, peer-graded)\n",
    "Два последних столбика q зануляются при перемножении q и r, а значит, неважно, что в них написано. \n",
    "Разница в знаках объясняется тем, что векторы могут быть противоположно направлены(при этом параллельны). Поэтому два разложения совпадают с точность до знака перед векторами(столбики в Q м строчки в R)."
   ]
  },
  {
   "cell_type": "markdown",
   "metadata": {},
   "source": [
    "# Part III. Avoid forming Householder matrices explicitly."
   ]
  },
  {
   "cell_type": "markdown",
   "metadata": {},
   "source": [
    "Note the special structure of the Householder matrices: A reflector $\\mathbf{H}$ is completely specified by a reflection vector $\\mathbf{u}$. Also note that the computational cost of applying a reflector to a matrix strongly depends on the order of operations:\n",
    "\n",
    "$$\n",
    "\\left( \\mathbf{u} \\mathbf{u}^T \\right) \\mathbf{A}  \\qquad \\textrm{is } O(m^2 n)\\;,\n",
    "$$\n",
    "while\n",
    "$$\n",
    "\\mathbf{u} \\left( \\mathbf{u}^T \\mathbf{A} \\right) \\qquad \\textrm{is } O(mn)\n",
    "$$\n",
    "\n",
    "Thus, it seems to make sense to *avoid* forming the $\\mathbf{H}$ matrices. Instead, one stores the reflection vectors, $\\mathbf{u}$, themselves, and provides a way of multiplying an arbitrary matrix by $\\mathbf{Q}^T$, e.g., as a standalone function (or a class)."
   ]
  },
  {
   "cell_type": "markdown",
   "metadata": {},
   "source": [
    "Write a function which constructs the `QR` decomposition of a matrix *without ever forming the* $\\mathbf{H}$ matrices, and returns the $\\mathbf{R}$ matrix and reflection vectors. \n",
    "\n",
    "Write a second function, which uses reflection vectors to multiply a matrix with $\\mathbf{Q}^T$. Make sure to include enough comments for a marker to follow your implementation, and add tests. \n",
    "\n",
    "(Peer-graded, 40% of the total grade)"
   ]
  },
  {
   "cell_type": "code",
   "execution_count": 9,
   "metadata": {},
   "outputs": [],
   "source": [
    "def a_to_RU(a):\n",
    "    a1 = a.copy()\n",
    "    m,n = a.shape\n",
    "    U = np.zeros_like(a)\n",
    "\n",
    "    for i in range(n if n<m else m-1):#Проверяем, какое измерение матрицы больше\n",
    "        vec = a1[i:,i]#Вектор, который хотим повернуть - от диагонали и ниже\n",
    "        y = np.zeros_like(vec)\n",
    "        y[0] = np.linalg.norm(vec)\n",
    "        u = np.zeros(m-i)#Наш reflection vector(вектор отражения?)\n",
    "        u = (vec-y)/np.linalg.norm(vec-y)#Заполняем как в Хаусхолдере\n",
    "        if abs(u[0])<1e-6:\n",
    "            u[0] = -(sum(vec**2)-vec[0]**2)/(vec[0]+y[0])#Чтобы избежать зануления в случае, когда векторы почти параллельны\n",
    "        a1[i:,i:] = a1[i:,i:] -  2 * np.dot(u.reshape(-1,1), (u @ a1[i:,i:]).reshape(1,-1))#Преобразование из инструкции\n",
    "        \n",
    "        U[i:,i] = u#Нужный столбик матрицы заполняем нашим вектором\n",
    "    return a1, U\n",
    "\n",
    "def aU_to_R(a, U):\n",
    "    a1 = a.copy()\n",
    "    m,n = a.shape\n",
    "    R = a1.copy()\n",
    "\n",
    "    for i in range(n if n<m else m-1):\n",
    "        u = U[i:,i]#Берем i-тый вектор отражения\n",
    "        R[i:,i:] = R[i:,i:] - 2 * np.dot(u.reshape(-1,1), (u @ R[i:,i:]).reshape(1,-1))#Находим (1-2u_i@u_i.T)a \n",
    "    return R"
   ]
  },
  {
   "cell_type": "code",
   "execution_count": 10,
   "metadata": {},
   "outputs": [
    {
     "name": "stdout",
     "output_type": "stream",
     "text": [
      "Test 1: vertical rectangular matrix\n",
      "a\n",
      "[[0.56119619 0.50308317 0.01376845]\n",
      " [0.77282662 0.88264119 0.36488598]\n",
      " [0.61539618 0.07538124 0.36882401]\n",
      " [0.9331401  0.65137814 0.39720258]\n",
      " [0.78873014 0.31683612 0.56809865]]\n",
      "U\n",
      "[[-0.57604006  0.          0.        ]\n",
      " [ 0.40205315 -0.30471224  0.        ]\n",
      " [ 0.32015198 -0.79045901 -0.78244581]\n",
      " [ 0.48545419  0.38872927 -0.62222608]\n",
      " [ 0.41032676 -0.3622355   0.0247639 ]]\n",
      "R from the 1 function\n",
      "[[ 1.66846046  1.11993758  0.80038785]\n",
      " [ 0.          0.55520169 -0.18167936]\n",
      " [ 0.         -0.          0.27611658]\n",
      " [ 0.          0.         -0.        ]\n",
      " [ 0.         -0.          0.        ]]\n",
      "R from the 2 function\n",
      "[[ 1.66846046  1.11993758  0.80038785]\n",
      " [ 0.          0.55520169 -0.18167936]\n",
      " [ 0.         -0.          0.27611658]\n",
      " [ 0.          0.         -0.        ]\n",
      " [ 0.         -0.          0.        ]]\n",
      "R from library\n",
      "[[-1.66846046 -1.11993758 -0.80038785]\n",
      " [ 0.         -0.55520169  0.18167936]\n",
      " [ 0.          0.         -0.27611658]\n",
      " [ 0.          0.          0.        ]\n",
      " [ 0.          0.          0.        ]]\n",
      "Test 2: square matrix\n",
      "a\n",
      "[[0.86912739 0.43617342 0.80214764 0.14376682 0.70426097]\n",
      " [0.70458131 0.21879211 0.92486763 0.44214076 0.90931596]\n",
      " [0.05980922 0.18428708 0.04735528 0.67488094 0.59462478]\n",
      " [0.53331016 0.04332406 0.56143308 0.32966845 0.50296683]\n",
      " [0.11189432 0.60719371 0.56594464 0.00676406 0.61744171]]\n",
      "U\n",
      "[[-0.38886064  0.          0.          0.          0.        ]\n",
      " [ 0.72713406 -0.65924514  0.          0.          0.        ]\n",
      " [ 0.06172364  0.21160747 -0.90445565  0.          0.        ]\n",
      " [ 0.55038075 -0.07485021 -0.32306573 -0.86474938  0.        ]\n",
      " [ 0.11547591  0.71764585 -0.27854714 -0.50220365  0.        ]]\n",
      "R from the 1 function\n",
      "[[ 1.24592714  0.50991413  1.37599472  0.52443861  1.30478666]\n",
      " [-0.          0.61856909  0.36742642  0.05623791  0.56110284]\n",
      " [-0.         -0.          0.32893814  0.00860307  0.19563947]\n",
      " [-0.          0.          0.          0.70857329  0.50392219]\n",
      " [-0.         -0.          0.          0.          0.0333251 ]]\n",
      "R from the 2 function\n",
      "[[ 1.24592714  0.50991413  1.37599472  0.52443861  1.30478666]\n",
      " [-0.          0.61856909  0.36742642  0.05623791  0.56110284]\n",
      " [-0.         -0.          0.32893814  0.00860307  0.19563947]\n",
      " [-0.          0.          0.          0.70857329  0.50392219]\n",
      " [-0.         -0.          0.          0.          0.0333251 ]]\n",
      "R from library\n",
      "[[-1.24592714 -0.50991413 -1.37599472 -0.52443861 -1.30478666]\n",
      " [ 0.          0.61856909  0.36742642  0.05623791  0.56110284]\n",
      " [ 0.          0.          0.32893814  0.00860307  0.19563947]\n",
      " [ 0.          0.          0.         -0.70857329 -0.50392219]\n",
      " [ 0.          0.          0.          0.          0.0333251 ]]\n",
      "Test 3: horizontal rectangular matrix\n",
      "a\n",
      "[[0.91212289 0.79052413 0.99208147 0.95880176 0.79196414]\n",
      " [0.28525096 0.62491671 0.4780938  0.19567518 0.38231745]\n",
      " [0.05387369 0.45164841 0.98200474 0.1239427  0.1193809 ]]\n",
      "U\n",
      "[[-0.15345393  0.          0.          0.          0.        ]\n",
      " [ 0.97099009 -0.97250701  0.          0.          0.        ]\n",
      " [ 0.18338523  0.23287362  0.          0.          0.        ]]\n",
      "R from the 1 function\n",
      "[[ 0.95720355  0.96494126  1.14310183  0.9789337   0.87531698]\n",
      " [ 0.          0.53695804  0.78875417 -0.01564066  0.13832002]\n",
      " [ 0.         -0.          0.49831485  0.11998156 -0.04809767]]\n",
      "R from the 2 function\n",
      "[[ 0.95720355  0.96494126  1.14310183  0.9789337   0.87531698]\n",
      " [ 0.          0.53695804  0.78875417 -0.01564066  0.13832002]\n",
      " [ 0.         -0.          0.49831485  0.11998156 -0.04809767]]\n",
      "R from library\n",
      "[[-0.95720355 -0.96494126 -1.14310183 -0.9789337  -0.87531698]\n",
      " [ 0.         -0.53695804 -0.78875417  0.01564066 -0.13832002]\n",
      " [ 0.          0.          0.49831485  0.11998156 -0.04809767]]\n",
      "Test 4: bad matrix\n",
      "a\n",
      "[[100.           0.58730363   0.47163253]\n",
      " [  0.10712682   0.22921857   0.89996519]\n",
      " [  0.41675354   0.53585166   0.00620852]\n",
      " [  0.30064171   0.43689317   0.612149  ]\n",
      " [  0.91819808   0.62573667   0.70599757]]\n",
      "U\n",
      "[[-0.00528805  0.          0.        ]\n",
      " [ 0.10128575 -0.68940913  0.        ]\n",
      " [ 0.39403014 -0.1309717  -0.93080615]\n",
      " [ 0.28424928 -0.0562306   0.08079616]\n",
      " [ 0.86813353 -0.71021094 -0.35647145]]\n",
      "R from the 1 function\n",
      "[[100.00559301   0.59680797   0.48091845]\n",
      " [ -0.           0.95438251   0.9522423 ]\n",
      " [ -0.          -0.           0.87608456]\n",
      " [ -0.          -0.           0.        ]\n",
      " [ -0.          -0.           0.        ]]\n",
      "R from the 2 function\n",
      "[[100.00559301   0.59680797   0.48091845]\n",
      " [ -0.           0.95438251   0.9522423 ]\n",
      " [ -0.          -0.           0.87608456]\n",
      " [ -0.          -0.           0.        ]\n",
      " [ -0.          -0.           0.        ]]\n",
      "R from library\n",
      "[[-100.00559301   -0.59680797   -0.48091845]\n",
      " [   0.           -0.95438251   -0.9522423 ]\n",
      " [   0.            0.            0.87608456]\n",
      " [   0.            0.            0.        ]\n",
      " [   0.            0.            0.        ]]\n"
     ]
    }
   ],
   "source": [
    "print(\"Test 1: vertical rectangular matrix\")\n",
    "a = rndm.uniform(size=(5,3))\n",
    "R, U = a_to_RU(a)\n",
    "print('a',a,'U', U,'R from the 1 function',R,'R from the 2 function', aU_to_R(a, U),\n",
    "      'R from library',qr(a)[1],sep='\\n')\n",
    "\n",
    "print(\"Test 2: square matrix\")\n",
    "a = rndm.uniform(size=(5,5))\n",
    "R, U = a_to_RU(a)\n",
    "print('a',a,'U', U,'R from the 1 function',R,'R from the 2 function', aU_to_R(a, U),\n",
    "      'R from library',qr(a)[1],sep='\\n')\n",
    "\n",
    "print(\"Test 3: horizontal rectangular matrix\")\n",
    "a = rndm.uniform(size=(3,5))\n",
    "R, U = a_to_RU(a)\n",
    "print('a',a,'U', U,'R from the 1 function',R,'R from the 2 function', aU_to_R(a, U),\n",
    "      'R from library',qr(a)[1],sep='\\n')\n",
    "\n",
    "print(\"Test 4: bad matrix\")\n",
    "a = rndm.uniform(size=(5,3))\n",
    "a[0,0] = 100\n",
    "R, U = a_to_RU(a)\n",
    "print('a',a,'U', U,'R from the 1 function',R,'R from the 2 function', aU_to_R(a, U),\n",
    "      'R from library',qr(a)[1],sep='\\n')\n",
    "\n",
    "#И снова все совпадает с точностью до знака\n",
    "#А значит, разложение верное"
   ]
  },
  {
   "cell_type": "code",
   "execution_count": null,
   "metadata": {},
   "outputs": [],
   "source": []
  }
 ],
 "metadata": {
  "kernelspec": {
   "display_name": "Python 3",
   "language": "python",
   "name": "python3"
  },
  "language_info": {
   "codemirror_mode": {
    "name": "ipython",
    "version": 3
   },
   "file_extension": ".py",
   "mimetype": "text/x-python",
   "name": "python",
   "nbconvert_exporter": "python",
   "pygments_lexer": "ipython3",
   "version": "3.7.1"
  }
 },
 "nbformat": 4,
 "nbformat_minor": 2
}
