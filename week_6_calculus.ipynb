{
 "cells": [
  {
   "cell_type": "markdown",
   "metadata": {},
   "source": [
    "# Part I. One-sided finite differences"
   ]
  },
  {
   "cell_type": "markdown",
   "metadata": {},
   "source": [
    "Write a function, `deriv`, which computes a derivative of its argument at a given point, $x$, using a one-sided finite difference rule with a given step side $h$, with the approximation order of $O(h^2)$. "
   ]
  },
  {
   "cell_type": "code",
   "execution_count": 1,
   "metadata": {},
   "outputs": [],
   "source": [
    "import matplotlib.pyplot as plt\n",
    "import numpy as np"
   ]
  },
  {
   "cell_type": "code",
   "execution_count": 2,
   "metadata": {},
   "outputs": [],
   "source": [
    "def deriv(f, x, h):\n",
    "    \"\"\" Compute a derivative of `f` at point `x` with step size `h`.\n",
    "    \n",
    "    Compute the derivative using the one-sided rule of the approximation order of $O(h^2)$.\n",
    "    \n",
    "    Parameters\n",
    "    ----------\n",
    "    f : callable\n",
    "        The function to differentiate\n",
    "    x : float\n",
    "        The point to compute the derivative at.\n",
    "    h : float\n",
    "        The step size for the finite different rule.\n",
    "        \n",
    "    Returns\n",
    "    -------\n",
    "    fder : derivative of f(x) at point x using the step size h.\n",
    "    \"\"\"\n",
    "    return (-1.5*f(x)+2*f(x+h)-0.5*f(x+2*h))/h"
   ]
  },
  {
   "cell_type": "markdown",
   "metadata": {},
   "source": [
    "#### Test I.1\n",
    "\n",
    "Test your function on a simple test case: differentiate $f(x) = x^3$ at $x=0$. Comment on whether your results are consistent with the expected value of $f'(x) = 0$ and on an expected scaling with $h\\to 0$.\n",
    "\n",
    " (10% of the total grade)"
   ]
  },
  {
   "cell_type": "code",
   "execution_count": 3,
   "metadata": {},
   "outputs": [
    {
     "name": "stdout",
     "output_type": "stream",
     "text": [
      "    h          err    h**2\n",
      "0.010000 -- -0.0002  0.0001\n",
      "0.001000 --  -2e-06   1e-06\n",
      "0.000100 --  -2e-08   1e-08\n",
      "0.000010 --  -2e-10   1e-10\n"
     ]
    }
   ],
   "source": [
    "x = 0\n",
    "print('    h          err    h**2')\n",
    "for h in [1e-2, 1e-3, 1e-4, 1e-5]:\n",
    "    err = deriv(lambda x: x**3, x, h)\n",
    "    print(\"%5f -- %7.4g %7.4g\" % (h, err, h**2))"
   ]
  },
  {
   "cell_type": "markdown",
   "metadata": {},
   "source": [
    "As we expected, error is O(h^2), (the expected result is 0)."
   ]
  },
  {
   "cell_type": "markdown",
   "metadata": {},
   "source": [
    "### Test I.2\n",
    "\n",
    "Now use a slightly more complicated function, $f(x) = x^2 \\log{x}$, evaluate the derivative at $x=1$ using your one-sided rule and a two-point one-sided rule. Roughly estimate the value of $h$ where the error stops decreasing, for these two schemes. \n",
    "(15% of the total grade)"
   ]
  },
  {
   "cell_type": "code",
   "execution_count": 4,
   "metadata": {},
   "outputs": [],
   "source": [
    "from math import log\n",
    "\n",
    "def f(x):\n",
    "    return x**2 * log(x)\n",
    "    \n",
    "def fder(x):\n",
    "    return x * (2.*log(x) + 1)\n",
    "\n",
    "#Two-point one-sided rule\n",
    "def der2(f,x,h):\n",
    "    return f(x + h) / h"
   ]
  },
  {
   "cell_type": "code",
   "execution_count": 5,
   "metadata": {},
   "outputs": [
    {
     "name": "stdout",
     "output_type": "stream",
     "text": [
      "One-sided    2-point 3-point\n",
      "Least error   3e-09   4e-12\n",
      "Step(h)       7e-09   1e-06\n"
     ]
    },
    {
     "data": {
      "image/png": "[encoded data removed]",
      "text/plain": [
       "<Figure size 432x288 with 1 Axes>"
      ]
     },
     "metadata": {
      "needs_background": "light"
     },
     "output_type": "display_data"
    }
   ],
   "source": [
    "x = 1\n",
    "err2 = []; err3 = []\n",
    "hScale = 1/(10**(np.linspace(1, 11, 100)))\n",
    "for h in hScale:\n",
    "    err3.append(abs(deriv(f,x,h)-fder(x)))\n",
    "    err2.append(abs(der2(f,x,h)-fder(x)))\n",
    "\n",
    "ind3 = np.argmin(err3)\n",
    "ind2 = np.argmin(err2)\n",
    "\n",
    "#Plot\n",
    "plt.plot(hScale, err2, '-', color='green', label='2-point one-sided')\n",
    "plt.plot(hScale, err3, '-', color='blue', label='3-point one-sided')\n",
    "plt.plot(hScale[ind2], err2[ind2], '.', color='red', label='least err 2-point')\n",
    "plt.plot(hScale[ind3], err3[ind3], '.', color='yellow', label='least err 3-point')\n",
    "\n",
    "#Plot settings\n",
    "plt.yscale('log')\n",
    "plt.xscale('log')\n",
    "plt.legend()\n",
    "plt.title('Error comparision between 2 and 3-point one-sided rules')\n",
    "plt.xlabel('h, step')\n",
    "plt.ylabel('error')\n",
    "\n",
    "#Table\n",
    "print('One-sided    2-point 3-point')\n",
    "print('Least error', \"%7.0g %7.0g\"%(err2[ind2], err3[ind3]))\n",
    "print('Step(h)    ', \"%7.0g %7.0g\" % (hScale[ind2], hScale[ind3]) )"
   ]
  },
  {
   "cell_type": "markdown",
   "metadata": {},
   "source": [
    "### Test I.3 \n",
    "\n",
    "Now try differentiating $x^2 \\log(x)$ at $x=0$. Use the three-point one-sided rule. Note that to evaluate the function at zero, you need to special-case this value. Check the scaling of the error with $h$, explain your results. \n",
    "(25% of the total grade)"
   ]
  },
  {
   "cell_type": "code",
   "execution_count": 6,
   "metadata": {},
   "outputs": [
    {
     "name": "stdout",
     "output_type": "stream",
     "text": [
      "0.010000 -- -0.01386\n",
      "0.001000 -- -0.001386\n",
      "0.000100 -- -0.0001386\n",
      "0.000010 -- -1.386e-05\n"
     ]
    }
   ],
   "source": [
    "def f(x):\n",
    "    if x == 0:\n",
    "        # the limit of $x^2 log(x)$ at $x-> 0$ is zero, even though log(x) is undefined at x=0\n",
    "        return 0.0\n",
    "    else:\n",
    "        return x**2 * log(x)\n",
    "    \n",
    "def fder(x):\n",
    "    if x == 0:\n",
    "        return 0.0\n",
    "    else:\n",
    "        return x*(2*log(x) + 1)\n",
    "\n",
    "x = 0\n",
    "for h in [1e-2, 1e-3, 1e-4, 1e-5]:\n",
    "    err = deriv(f, x, h) - fder(x)\n",
    "    print(\"%5f -- %7.4g\" % (h, err))"
   ]
  },
  {
   "cell_type": "markdown",
   "metadata": {},
   "source": [
    "As we can see, the dependence is linear. Let's try to see that from the Taylor's series:\n",
    "$$f(x+h)=\\sum_{k=0}^n \\frac{f^{(k)}(x)}{k!}(h)^k$$\n",
    "We chose x=h.\n",
    "So\n",
    "$$f^{(3)}(h)\\sim \\frac{1}{h}(h)^2=h$$\n",
    "So linear view matches our expectations. Let's check that it doesn't work with x!=0:"
   ]
  },
  {
   "cell_type": "code",
   "execution_count": 7,
   "metadata": {},
   "outputs": [
    {
     "data": {
      "text/plain": [
       "<matplotlib.legend.Legend at 0x21bc12fc4e0>"
      ]
     },
     "execution_count": 7,
     "metadata": {},
     "output_type": "execute_result"
    },
    {
     "data": {
      "image/png": "[encoded data removed]",
      "text/plain": [
       "<Figure size 432x288 with 1 Axes>"
      ]
     },
     "metadata": {
      "needs_background": "light"
     },
     "output_type": "display_data"
    }
   ],
   "source": [
    "x0 = 0\n",
    "x1 = 1\n",
    "hScale = 1/(10**(np.linspace(2, 10, 100)))\n",
    "err0 = [abs(deriv(f, x0, h) - fder(x0)) for h in hScale]\n",
    "err1 = [abs(deriv(f, x1, h) - fder(x1)) for h in hScale]    \n",
    "plt.plot(hScale, err0, label='x=0')\n",
    "plt.plot(hScale, err1, label='x=1')\n",
    "plt.xscale('log')\n",
    "plt.yscale('log')\n",
    "plt.title('Errors for different x')\n",
    "plt.legend()"
   ]
  },
  {
   "cell_type": "markdown",
   "metadata": {},
   "source": [
    "Log scale saves linear plots, so blue line accepts our expectations."
   ]
  },
  {
   "cell_type": "markdown",
   "metadata": {},
   "source": [
    "# Part II. Midpoint rule "
   ]
  },
  {
   "cell_type": "markdown",
   "metadata": {},
   "source": [
    "Write a function which computes a definite integral using the midpoint rule up to a given error, $\\epsilon$. Estimate the error by comparing the estimates of the integral at $N$ and $2N$ elementary intervals. "
   ]
  },
  {
   "cell_type": "code",
   "execution_count": 8,
   "metadata": {},
   "outputs": [],
   "source": [
    "def midpoint_rule(func, a, b, eps):\n",
    "    N=1\n",
    "    width = (b-a)/N\n",
    "    m = np.array([a+(2*k-1)/(2*N)*(b-a) for k in range(1, N+1)])\n",
    "    M = (b-a)/N*np.sum(func(m))\n",
    "    while N==1 or (abs(Mprev-M)>eps and N<10**50):\n",
    "        Mprev=M\n",
    "        N*=2\n",
    "        width = (b-a)/N\n",
    "        m = np.array([a+(2*k-1)/(2*N)*(b-a) for k in range(1, N+1)])\n",
    "        M = (b-a)/N*np.sum(func(m))\n",
    "    if N<10**50:\n",
    "        return M, N\n",
    "    return \"N is too big, sorry(\""
   ]
  },
  {
   "cell_type": "markdown",
   "metadata": {},
   "source": [
    "### Test II.1\n",
    "\n",
    "Test your midpoint rule on a simple integral, which you can calculate by paper and pencil.\n",
    "\n",
    "Compare the rate of convergence to the expected $O(N^{-2})$ scaling by studying the number of intervals required for a given accuracy $\\epsilon$.\n",
    "\n",
    "Compare the numerical results to the value you calculated by hand. Does the deviation agree with your estimate of the numerical error?\n",
    "(20% of the total grade)\n"
   ]
  },
  {
   "cell_type": "code",
   "execution_count": 9,
   "metadata": {},
   "outputs": [
    {
     "name": "stdout",
     "output_type": "stream",
     "text": [
      "Number of slivers: 16\n",
      "Calculation result: 20.9912109375\n",
      "Real result: 21\n"
     ]
    }
   ],
   "source": [
    "I, N = midpoint_rule(lambda x: x**2, 1, 4, 0.1)\n",
    "print('Number of slivers:', N)\n",
    "print('Calculation result:', I)\n",
    "print('Real result:', 21)"
   ]
  },
  {
   "cell_type": "markdown",
   "metadata": {},
   "source": [
    "### Test II.2\n",
    "\n",
    "Now use your midpoint rule to compute the value of\n",
    "\n",
    "$$\n",
    "\\int_0^1\\! \\frac{\\sin{\\sqrt{x}}}{x}\\, dx\n",
    "$$\n",
    "\n",
    "up to a predefined accuracy of $\\epsilon=10^{-4}$.\n",
    "\n",
    "Note that the integral contains an integrable singularity at the lower limit. Do calculations two ways: first, do a straightforward computation; next, subtract the singularity. Compare the number of iterations required to achieve the accuracy of $\\epsilon$.\n",
    "\n",
    "(30% of the total grade)"
   ]
  },
  {
   "cell_type": "markdown",
   "metadata": {},
   "source": [
    "Let's estimate the singularity: for x->0 integrand function approcsimatelty equal $$\\frac{1}{\\sqrt(x)}$$\n",
    "$$\n",
    "\\int_0^1\\! \\frac{1}{\\sqrt{x}}\\, dx = \\int_0^1\\!\\, d{\\sqrt{x}} = 2\n",
    "$$"
   ]
  },
  {
   "cell_type": "code",
   "execution_count": 10,
   "metadata": {},
   "outputs": [],
   "source": [
    "I, N = midpoint_rule(lambda x:np.sin(np.sqrt(x))/x, 0, 1, 0.0001)\n",
    "I1, N1 = midpoint_rule(lambda x:np.sin(np.sqrt(x))/x - 1/np.sqrt(x) + 2, 0, 1, 0.0001)"
   ]
  },
  {
   "cell_type": "code",
   "execution_count": 11,
   "metadata": {},
   "outputs": [
    {
     "name": "stdout",
     "output_type": "stream",
     "text": [
      "                 Integral value       Number of slivers\n",
      "straightforward  1.8919572892043148       8388608\n",
      "smart            1.892113005639548        32\n",
      "Wolfram's result 1.89217\n"
     ]
    }
   ],
   "source": [
    "print('                 Integral value       Number of slivers')\n",
    "print('straightforward ', I, '     ',N)\n",
    "print('smart           ', I1,'      ', N1)\n",
    "print(\"Wolfram's result\", 1.89217 )"
   ]
  },
  {
   "cell_type": "markdown",
   "metadata": {},
   "source": [
    "As we can see, results are very close, but considering the singularity allows to calculate this integral much more faster and better."
   ]
  }
 ],
 "metadata": {
  "kernelspec": {
   "display_name": "Python 3",
   "language": "python",
   "name": "python3"
  },
  "language_info": {
   "codemirror_mode": {
    "name": "ipython",
    "version": 3
   },
   "file_extension": ".py",
   "mimetype": "text/x-python",
   "name": "python",
   "nbconvert_exporter": "python",
   "pygments_lexer": "ipython3",
   "version": "3.7.1"
  }
 },
 "nbformat": 4,
 "nbformat_minor": 2
}
